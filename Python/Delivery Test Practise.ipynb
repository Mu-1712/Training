{
 "cells": [
  {
   "cell_type": "code",
   "execution_count": 15,
   "id": "2b2cfc03-3e41-426a-995c-138655399095",
   "metadata": {},
   "outputs": [
    {
     "name": "stdin",
     "output_type": "stream",
     "text": [
      "enter the number 342\n"
     ]
    },
    {
     "name": "stdout",
     "output_type": "stream",
     "text": [
      "Not a Palindrome\n"
     ]
    }
   ],
   "source": [
    "#2) Palindrome of a number(A palindrome number is a number that remains the same when its digits are reversed)\n",
    "#121 is a palindrome because when reversed, it remains 121.\n",
    "num = int(input(\"enter the number\"))\n",
    "temp=num\n",
    "rev=0\n",
    "while(temp):\n",
    "    rem = temp%10\n",
    "    rev = rev*10 + rem\n",
    "    temp = temp//10\n",
    "if(rev == num):\n",
    "    print(\"Palindrome\")\n",
    "else:\n",
    "    print(\"Not a Palindrome\")"
   ]
  },
  {
   "cell_type": "code",
   "execution_count": 7,
   "id": "be38912f-d4fb-43ce-b18a-dc327c264047",
   "metadata": {},
   "outputs": [
    {
     "name": "stdin",
     "output_type": "stream",
     "text": [
      "enter your string vaav\n"
     ]
    },
    {
     "name": "stdout",
     "output_type": "stream",
     "text": [
      "Palindrome\n"
     ]
    }
   ],
   "source": [
    "#1) Palindrome of a strings\n",
    "tring = input(\"enter your string\")\n",
    "string = string.lower()\n",
    "if string==string[::-1]:\n",
    "    print(\"Palindrome\")\n",
    "else:\n",
    "    print(\"not palindrome\")\n",
    "    \n"
   ]
  },
  {
   "cell_type": "code",
   "execution_count": 93,
   "id": "e557bf1d-45a3-4da0-8e72-287c750b584f",
   "metadata": {},
   "outputs": [
    {
     "name": "stdin",
     "output_type": "stream",
     "text": [
      "Enter number 153\n"
     ]
    },
    {
     "name": "stdout",
     "output_type": "stream",
     "text": [
      "153 is Armstrong\n"
     ]
    }
   ],
   "source": [
    "#11)Chech whether numbe is armstrong or not?\n",
    "#An Armstrong number (also known as a Narcissistic number) is a number \n",
    "#that is equal to the sum of its own digits each raised to the power of the number of digits.\n",
    "#153 is an Armstrong number because:1pow(3)+5pow(3)+3pow(3)=153\n",
    "\n",
    "num=int(input(\"Enter number\"))\n",
    "temp = num\n",
    "rev=0\n",
    "while(temp):\n",
    "    rem=temp%10\n",
    "    rev=rev+(rem*rem*rem)\n",
    "    temp=temp//10\n",
    "if(rev==num):\n",
    "    print(f\"{num} is Armstrong Number\")\n",
    "else:\n",
    "    print(f\"{num} is not Armstrong Number\")"
   ]
  },
  {
   "cell_type": "code",
   "execution_count": 95,
   "id": "3d46a11b-407d-40ab-aec2-bceef158cf92",
   "metadata": {},
   "outputs": [
    {
     "name": "stdin",
     "output_type": "stream",
     "text": [
      "Enter number 9474\n"
     ]
    },
    {
     "name": "stdout",
     "output_type": "stream",
     "text": [
      "9474 is Armstrong Number\n"
     ]
    }
   ],
   "source": [
    "#12)Chech whether number is armstrong or not? (For N number or n digits)\n",
    "#9474 is an Armstrong number because:\n",
    "9pow(4)+4pow(4)+7pow(4)+4pow(4)=9474\n",
    "\n",
    "num=int(input(\"Enter number\"))\n",
    "temp = num\n",
    "rev=0\n",
    "n_digits = len(str(num)) \n",
    "while(temp):\n",
    "    rem=temp%10\n",
    "    rev += pow(rem, n_digits) \n",
    "    temp=temp//10\n",
    "if(rev==num):\n",
    "    print(f\"{num} is Armstrong Number\")\n",
    "else:\n",
    "    print(f\"{num} is not Armstrong Number\")"
   ]
  },
  {
   "cell_type": "code",
   "execution_count": null,
   "id": "eb360415-b558-4212-a84f-97cf38f187f4",
   "metadata": {},
   "outputs": [],
   "source": [
    "#13)Chech whether numbe is Perfect Number or not?\n",
    "#A perfect number is a positive integer that is equal to the sum of its proper divisors (divisors excluding the number itself).\n",
    "#6 is a perfect number because its divisors (excluding itself) are 1, 2, 3, and their sum is:1+2+3=6\n",
    "\n",
    "def check_perfect(num):\n",
    "    sum_of_divisors=0\n",
    "    for i in range(1, num):\n",
    "        if num%i==0:\n",
    "            sum_of_divisors +=i\n",
    "    if sum_of_divisors==num:\n",
    "        print(f\"{num} , is perfect Number\")\n",
    "    else:\n",
    "        print(f\"{num} , is not perfect Number\")\n",
    "\n",
    "num = int(input(\"Enter a number:\\n\"))\n",
    "check_perfect(num)"
   ]
  },
  {
   "cell_type": "code",
   "execution_count": 1,
   "id": "96845e74-41a4-4211-8552-b5eb4e69f0fe",
   "metadata": {},
   "outputs": [
    {
     "name": "stdin",
     "output_type": "stream",
     "text": [
      "Enter a number:\n",
      " 140\n"
     ]
    },
    {
     "name": "stdout",
     "output_type": "stream",
     "text": [
      "140 is not a Strong Number\n"
     ]
    }
   ],
   "source": [
    "#14)Chech whether numbe is Strong Number or not?\n",
    "#A Strong Number (also known as a Krishnamurthy Number) is a number\n",
    "#where the sum of the factorial of each digit is equal to the number itself\n",
    "#145 is a strong number because:1!+4!+5!=1+24+120=145\n",
    "\n",
    "def Check_strong(num):\n",
    "    sum_of_factorial = 0\n",
    "    temp = num\n",
    "    \n",
    "    while temp:\n",
    "        digit = temp % 10\n",
    "        fact = 1\n",
    "       \n",
    "        for i in range(1, digit + 1):\n",
    "            fact *= i\n",
    "        sum_of_factorial += fact\n",
    "        temp //= 10\n",
    "\n",
    "    if sum_of_factorial == num:\n",
    "        print(f\"{num} is a Strong Number\")\n",
    "    else:\n",
    "        print(f\"{num} is not a Strong Number\")\n",
    "\n",
    "num = int(input(\"Enter a number:\\n\"))\n",
    "Check_strong(num)\n"
   ]
  },
  {
   "cell_type": "code",
   "execution_count": 17,
   "id": "8a0398d2-a4ca-466a-8215-ab3baf861795",
   "metadata": {},
   "outputs": [
    {
     "name": "stdin",
     "output_type": "stream",
     "text": [
      "Enter a number:\n",
      " 5\n"
     ]
    },
    {
     "name": "stdout",
     "output_type": "stream",
     "text": [
      "5 factorial is: 120\n"
     ]
    }
   ],
   "source": [
    "#15)Factorial Number\n",
    "num = int(input(\"Enter a number:\\n\"))\n",
    "def findfactorial(num):\n",
    "    fact=1\n",
    "    for i in range(1, num+1):\n",
    "        fact*=i\n",
    "    return fact\n",
    "result = findfactorial(num)\n",
    "print(f\"{num} factorial is:\",result)"
   ]
  },
  {
   "cell_type": "code",
   "execution_count": 32,
   "id": "7e638084-ab03-4a3a-ab03-3120d1d1f656",
   "metadata": {},
   "outputs": [
    {
     "name": "stdin",
     "output_type": "stream",
     "text": [
      "Enter the number of terms:  6\n"
     ]
    },
    {
     "name": "stdout",
     "output_type": "stream",
     "text": [
      "0 1 1 2 3 5 "
     ]
    }
   ],
   "source": [
    "#26 Fibonacci series numbers\n",
    "#The Fibonacci series is a sequence of numbers where each number is the sum of the two preceding ones, usually starting with 0 and 1\n",
    "def fibonacci(n):\n",
    "    a, b = 0, 1\n",
    "    for _ in range(n):\n",
    "        print(a, end=\" \")\n",
    "        a, b = b, a + b\n",
    "\n",
    "\n",
    "terms = int(input(\"Enter the number of terms: \"))\n",
    "fibonacci(terms)"
   ]
  },
  {
   "cell_type": "code",
   "execution_count": 35,
   "id": "508ca545-739a-4dca-bfde-ee65b869101c",
   "metadata": {},
   "outputs": [
    {
     "name": "stdin",
     "output_type": "stream",
     "text": [
      "Enter 1st string value world\n",
      "Enter 2nd string value hello\n"
     ]
    },
    {
     "name": "stdout",
     "output_type": "stream",
     "text": [
      "world, hello are not anagrams\n"
     ]
    }
   ],
   "source": [
    "#3) Check anagram of String\n",
    "s1=input(\"Enter 1st string value\")\n",
    "s2=input(\"Enter 2nd string value\")\n",
    "def check_anagram(s1, s2):\n",
    "    if(sorted(s1) == sorted(s2)):\n",
    "        print(f\"{s1}, {s2} are anagrams\")\n",
    "    else:\n",
    "        print(f\"{s1}, {s2} are not anagrams\")\n",
    "\n",
    "check_anagram(s1,s2)"
   ]
  },
  {
   "cell_type": "code",
   "execution_count": 63,
   "id": "5097345d-f6f8-4f11-96d7-2cc7a6abd4b6",
   "metadata": {},
   "outputs": [
    {
     "name": "stdin",
     "output_type": "stream",
     "text": [
      "Enter 1st string value vile\n",
      "Enter 2nd string value evil\n"
     ]
    },
    {
     "name": "stdout",
     "output_type": "stream",
     "text": [
      "Anagram\n"
     ]
    }
   ],
   "source": [
    "#4) Altenate way to Check anagram of String\n",
    "s1=input(\"Enter 1st string value\")\n",
    "s2=input(\"Enter 2nd string value\")\n",
    "def count_character(s):\n",
    "    # Returns a frequency dictionary of characters in the string\n",
    "    count = {}\n",
    "    for char in s:\n",
    "        count[char] = count.get(char, 0) + 1\n",
    "    return count\n",
    "\n",
    "def check_anagram(s1, s2):\n",
    "    if len(s1) != len(s2):  # Check lengths\n",
    "        print(\"Not Anagram\")\n",
    "        return\n",
    "    \n",
    "    count1 = count_character(s1)\n",
    "    count2 = count_character(s2)\n",
    "    \n",
    "    if count1 == count2:  # Compare character frequencies\n",
    "        print(\"Anagram\")\n",
    "    else:\n",
    "        print(\"Not Anagram\")\n",
    "\n",
    "check_anagram(s1, s2)\n"
   ]
  },
  {
   "cell_type": "code",
   "execution_count": 43,
   "id": "d6d7cd4d-c700-4796-b924-5fb9c1f4afb2",
   "metadata": {},
   "outputs": [
    {
     "name": "stdout",
     "output_type": "stream",
     "text": [
      "Non-repeated elements: [2, 3, 5]\n"
     ]
    }
   ],
   "source": [
    "#5) print non repeated elements, character in ararys or string\n",
    "def find_non_repeated_elements(arr):\n",
    "    # Count occurrences using a dictionary\n",
    "    count = {}\n",
    "    for num in arr:\n",
    "        count[num] = count.get(num, 0) + 1\n",
    "\n",
    "    # Extract non-repeated elements\n",
    "    non_repeated = [key for key, value in count.items() if value == 1]\n",
    "    return non_repeated\n",
    "\n",
    "# Input array\n",
    "arr = [1, 1, 2, 3, 4, 4, 5]\n",
    "\n",
    "# Find and print non-repeated elements\n",
    "non_repeated = find_non_repeated_elements(arr)\n",
    "print(\"Non-repeated elements:\", non_repeated)\n"
   ]
  },
  {
   "cell_type": "code",
   "execution_count": 47,
   "id": "9bfd51fc-1605-4dc4-8760-7a786f73960e",
   "metadata": {},
   "outputs": [
    {
     "name": "stdout",
     "output_type": "stream",
     "text": [
      "Non-repeated elements: [2, 3, 5]\n"
     ]
    }
   ],
   "source": [
    "#6) Alternative print non repeated elements, character in ararys or string\n",
    "def find_non_repeated_elements(arr):\n",
    "    non_repeated = []\n",
    "    for i in range(len(arr)):\n",
    "        \n",
    "        if arr.index(arr[i]) == len(arr) - 1 - arr[::-1].index(arr[i]):\n",
    "            non_repeated.append(arr[i])\n",
    "    return non_repeated\n",
    "\n",
    "arr = [1, 1, 2, 3, 4, 4, 5]\n",
    "\n",
    "non_repeated = find_non_repeated_elements(arr)\n",
    "print(\"Non-repeated elements:\", non_repeated)\n"
   ]
  },
  {
   "cell_type": "code",
   "execution_count": 73,
   "id": "1c7d9d62-aec1-40fe-8770-38150c662e2b",
   "metadata": {},
   "outputs": [
    {
     "name": "stdin",
     "output_type": "stream",
     "text": [
      "enter string value Ariyan\n"
     ]
    },
    {
     "name": "stdout",
     "output_type": "stream",
     "text": [
      "Length of string is:  6\n"
     ]
    }
   ],
   "source": [
    "#7) Find length of string without length?\n",
    "s1 = input(\"enter string value\")\n",
    "\n",
    "i=0\n",
    "for char in s1:\n",
    "    i+=1\n",
    "print(\"Length of string is: \", i)"
   ]
  },
  {
   "cell_type": "code",
   "execution_count": 75,
   "id": "7fdae263-17c9-4952-a0d6-e78c48e030c8",
   "metadata": {},
   "outputs": [
    {
     "name": "stdin",
     "output_type": "stream",
     "text": [
      "enter string value Musharraf\n"
     ]
    },
    {
     "name": "stdout",
     "output_type": "stream",
     "text": [
      "9\n"
     ]
    }
   ],
   "source": [
    "#8) Find length of string with length function?\n",
    "s1 = input(\"enter string value\")\n",
    "print(len(s1))"
   ]
  },
  {
   "cell_type": "code",
   "execution_count": 79,
   "id": "5b41fd65-9c4d-41ed-b11f-b6f6f1b39842",
   "metadata": {},
   "outputs": [
    {
     "name": "stdin",
     "output_type": "stream",
     "text": [
      "Enter the string  Mush rra f\n"
     ]
    },
    {
     "name": "stdout",
     "output_type": "stream",
     "text": [
      "String without spaces:  Mushrraf\n"
     ]
    }
   ],
   "source": [
    "#9)remove the spaces from string\n",
    "def remove_spaces(s):\n",
    "    result= \"\"\n",
    "    for char in s:\n",
    "        if char!=\" \":\n",
    "            result+=char\n",
    "    return result\n",
    "\n",
    "s= input(\"Enter the string\")\n",
    "\n",
    "result=remove_spaces(s)\n",
    "print(\"String without spaces: \", result)"
   ]
  },
  {
   "cell_type": "code",
   "execution_count": 34,
   "id": "6f200cec-b266-461c-b964-fa55fde3802b",
   "metadata": {},
   "outputs": [
    {
     "name": "stdin",
     "output_type": "stream",
     "text": [
      "Enter the string Mush rra @#1f\n"
     ]
    },
    {
     "name": "stdout",
     "output_type": "stream",
     "text": [
      "Mushrraf\n"
     ]
    }
   ],
   "source": [
    "#10) remove the Symbols from string\n",
    "def remove_symbols(s):\n",
    "    result= \"\"\n",
    "    for char in s:\n",
    "        if ('a'<=char<='z')or('A'<=char<'Z'):\n",
    "            result+=char\n",
    "    return result\n",
    "\n",
    "s= input(\"Enter the string\")\n",
    "\n",
    "clean_data=remove_symbols(s)\n",
    "print(clean_data)"
   ]
  },
  {
   "cell_type": "code",
   "execution_count": 33,
   "id": "b5bc377c-2f81-475a-9718-49bf51f691f9",
   "metadata": {},
   "outputs": [
    {
     "name": "stdin",
     "output_type": "stream",
     "text": [
      "Enter string main lead role\n",
      "Enter SubString lead\n"
     ]
    },
    {
     "name": "stdout",
     "output_type": "stream",
     "text": [
      "lead is substring of main lead role\n"
     ]
    }
   ],
   "source": [
    "#18)find substring in main string\n",
    "def checkString(string, substring):\n",
    "    if substring in string:\n",
    "        print(substring, 'is substring of', string)\n",
    "    else:\n",
    "        print(substring, 'is not substring of', string)\n",
    "\n",
    "string=input(\"Enter string\")\n",
    "substring=input(\"Enter SubString\")\n",
    "\n",
    "checkString(string, substring)"
   ]
  },
  {
   "cell_type": "code",
   "execution_count": 14,
   "id": "92b85f2b-cd10-445b-a95c-4a1bded28864",
   "metadata": {},
   "outputs": [
    {
     "name": "stdin",
     "output_type": "stream",
     "text": [
      "Enter string embedded\n"
     ]
    },
    {
     "name": "stdout",
     "output_type": "stream",
     "text": [
      "String without duplicates: embd\n",
      "Number of duplicate elements: 4\n"
     ]
    }
   ],
   "source": [
    "#21)delete duplicates and count the no of duplicates found from string\n",
    "s1=input(\"Enter string\")\n",
    "def removedup_countdp(s1):\n",
    "    result=\"\"\n",
    "    countdup=0\n",
    "    for char in s1:\n",
    "        if char not in result:\n",
    "            result +=char\n",
    "        else:\n",
    "            countdup +=1\n",
    "    return result, countdup\n",
    "result_string, countdup = removedup_countdp(s1)\n",
    "print(\"String without duplicates:\", result_string)\n",
    "print(\"Number of duplicate elements:\", countdup)      "
   ]
  },
  {
   "cell_type": "code",
   "execution_count": 99,
   "id": "af6d2ae2-ec66-4c11-ad60-341be2a1c5cd",
   "metadata": {},
   "outputs": [
    {
     "name": "stdin",
     "output_type": "stream",
     "text": [
      "Enter a string:  hello\n"
     ]
    },
    {
     "name": "stdout",
     "output_type": "stream",
     "text": [
      "Before sorting: hello\n",
      "After sorting: ehllo\n"
     ]
    }
   ],
   "source": [
    "#21)sort the string in ascending order.\n",
    "def sortingArray(s):\n",
    "    arr = list(s)  # Convert string to list\n",
    "    n = len(arr)\n",
    "    \n",
    "    # Bubble sort\n",
    "    for i in range(n):\n",
    "        for j in range(0, n-i-1):\n",
    "            if arr[j] > arr[j+1]:\n",
    "                arr[j], arr[j+1] = arr[j+1], arr[j]  # Swap\n",
    "    return \"\".join(arr)  # Join the list back to a string\n",
    "\n",
    "str_arr = input(\"Enter a string: \")  # Get input from the user\n",
    "print(\"Before sorting:\", str_arr)\n",
    "sorted_str_arr = sortingArray(str_arr)\n",
    "print(\"After sorting:\", sorted_str_arr)\n"
   ]
  },
  {
   "cell_type": "code",
   "execution_count": 1,
   "id": "edf8135b-1ea8-424a-ad30-834f45e1de16",
   "metadata": {},
   "outputs": [
    {
     "name": "stdout",
     "output_type": "stream",
     "text": [
      "Before sorting: [2, 1, 4, 3, 6, 5]\n",
      "After sorting: [6, 5, 4, 3, 2, 1]\n"
     ]
    }
   ],
   "source": [
    "#19)fsorting array\n",
    "def sortingArray(arr):\n",
    "    n=len(arr)\n",
    "\n",
    "    for i in range(n):\n",
    "        for j in range(0, n-i-1):\n",
    "            if(arr[j]>arr[j+1]): #if you want to sort in descending order just change thsi line to  if(arr[j]<arr[j+1]):\n",
    "                temp = arr[j]\n",
    "                arr[j] = arr[j+1]\n",
    "                arr[j+1] = temp\n",
    "    return arr\n",
    "arr= [2, 1, 4, 3, 6, 5] #pre-defined\n",
    "#arr = list(map(int, arr_input.replace(\",\", \"\").split())) #user-defined\n",
    "print(\"Before sorting:\", arr)\n",
    "sorted_arr = sortingArray(arr)\n",
    "print(\"After sorting:\", sorted_arr)\n",
    "            \n"
   ]
  },
  {
   "cell_type": "code",
   "execution_count": 3,
   "id": "c38d1a14-6276-4ad4-9d63-fe9de685b25d",
   "metadata": {},
   "outputs": [
    {
     "name": "stdin",
     "output_type": "stream",
     "text": [
      "Enter an array (space-separated values):  455 546 44\n"
     ]
    },
    {
     "name": "stdout",
     "output_type": "stream",
     "text": [
      "The second largest element is: 455\n"
     ]
    }
   ],
   "source": [
    "#20)array second largest element in arrays\n",
    "def second_largest(arr):\n",
    "    if len(arr) < 2:\n",
    "        return None\n",
    "    \n",
    "    # Remove duplicates and sort the array\n",
    "    arr = list(set(arr))\n",
    "    arr.sort()\n",
    "    \n",
    "    # If there is at least one element left after removing duplicates, return the second largest\n",
    "    if len(arr) < 2:\n",
    "        return None\n",
    "    return arr[-2]\n",
    "\n",
    "# User input for the array\n",
    "arr_input = input(\"Enter an array (space-separated values): \")\n",
    "\n",
    "# Clean input by removing commas or other unwanted characters, then convert to integers\n",
    "arr = list(map(int, arr_input.replace(\",\", \"\").split()))\n",
    "\n",
    "# Call the function to find the second largest element\n",
    "result = second_largest(arr)\n",
    "\n",
    "# Output the result\n",
    "if result is not None:\n",
    "    print(\"The second largest element is:\", result)\n",
    "else:\n",
    "    print(\"The array has fewer than 2 unique elements.\")\n"
   ]
  },
  {
   "cell_type": "code",
   "execution_count": 18,
   "id": "580318e6-317c-4457-887d-86c1201e66d3",
   "metadata": {},
   "outputs": [
    {
     "name": "stdin",
     "output_type": "stream",
     "text": [
      "Enter the string:  Luffy\n",
      "Enter the character to find:  f\n"
     ]
    },
    {
     "name": "stdout",
     "output_type": "stream",
     "text": [
      "f found at index:  2\n"
     ]
    }
   ],
   "source": [
    "#22)find char index?\n",
    "def find_character_index():\n",
    "    s = input(\"Enter the string: \")\n",
    "    char = input(\"Enter the character to find: \")\n",
    "    \n",
    "    index = s.find(char)\n",
    "    \n",
    "    if index != -1:\n",
    "        print(char,\"found at index: \",index)\n",
    "    else:\n",
    "        print(char,\"not found in the string.\")\n",
    "\n",
    "find_character_index()"
   ]
  },
  {
   "cell_type": "code",
   "execution_count": 20,
   "id": "61b95cf2-5cb2-4139-817d-a21c970bbc44",
   "metadata": {},
   "outputs": [
    {
     "name": "stdin",
     "output_type": "stream",
     "text": [
      "Enter the string:  He is very Intelligent\n",
      "Enter the character to find:  e\n"
     ]
    },
    {
     "name": "stdout",
     "output_type": "stream",
     "text": [
      "e  appears  4  times in the string.\n"
     ]
    }
   ],
   "source": [
    "#23)no occurrences character   in string\n",
    "\n",
    "def count_character_occurrences():\n",
    "    s = input(\"Enter the string: \")\n",
    "    char = input(\"Enter the character to find: \")\n",
    "    \n",
    "    count = 0\n",
    "    for c in s:\n",
    "        if c == char:\n",
    "            count += 1\n",
    "    \n",
    "    print(char,\" appears \",count,\" times in the string.\")\n",
    "\n",
    "count_character_occurrences()"
   ]
  },
  {
   "cell_type": "code",
   "execution_count": 24,
   "id": "53fbc3fe-5ee6-4348-a56a-783c5ea2362a",
   "metadata": {},
   "outputs": [
    {
     "name": "stdin",
     "output_type": "stream",
     "text": [
      "Enter the original string:  MachoMan\n",
      "Enter the substring to replace:  Man\n",
      "Enter the new substring:  Lala\n"
     ]
    },
    {
     "name": "stdout",
     "output_type": "stream",
     "text": [
      "Updated string: MachoLala\n"
     ]
    }
   ],
   "source": [
    " #24)replace one string into another substring\n",
    "\n",
    "def replace_string():\n",
    "    s = input(\"Enter the original string: \")\n",
    "    old_substring = input(\"Enter the substring to replace: \")\n",
    "    new_substring = input(\"Enter the new substring: \")\n",
    "    \n",
    "    result = s.replace(old_substring, new_substring)\n",
    "    \n",
    "    print(\"Updated string:\", result)\n",
    "\n",
    "replace_string()"
   ]
  },
  {
   "cell_type": "code",
   "execution_count": 26,
   "id": "98dee16b-9d06-431c-ac04-ce52a8b21d6c",
   "metadata": {},
   "outputs": [
    {
     "name": "stdin",
     "output_type": "stream",
     "text": [
      "Enter the string:  Hurray! We made it..It been 3 Months\n"
     ]
    },
    {
     "name": "stdout",
     "output_type": "stream",
     "text": [
      "Number of digits: 1\n",
      "Number of lowercase letters: 22\n",
      "Number of uppercase letters: 4\n",
      "Number of special characters: 9\n"
     ]
    }
   ],
   "source": [
    "#25) count no of digits ,special character ,lowercase, uppercase\n",
    "\n",
    "def count_characters():\n",
    "    s = input(\"Enter the string: \")\n",
    "    \n",
    "    digits = 0\n",
    "    lowercase = 0\n",
    "    uppercase = 0\n",
    "    special_characters = 0\n",
    "    \n",
    "    for char in s:\n",
    "        if char.isdigit():\n",
    "            digits += 1\n",
    "        elif char.islower():\n",
    "            lowercase += 1\n",
    "        elif char.isupper():\n",
    "            uppercase += 1\n",
    "        else:\n",
    "            special_characters += 1\n",
    "    \n",
    "    print(\"Number of digits:\", digits)\n",
    "    print(\"Number of lowercase letters:\", lowercase)\n",
    "    print(\"Number of uppercase letters:\", uppercase)\n",
    "    print(\"Number of special characters:\", special_characters)\n",
    "\n",
    "count_characters()"
   ]
  },
  {
   "cell_type": "code",
   "execution_count": 19,
   "id": "03c4f011-02bc-4620-98f9-12a5cf569cbc",
   "metadata": {},
   "outputs": [
    {
     "name": "stdin",
     "output_type": "stream",
     "text": [
      "Enter a number:\n",
      " 45789\n"
     ]
    },
    {
     "name": "stdout",
     "output_type": "stream",
     "text": [
      "Sum of even digits: 12\n",
      "Product of odd digits: 315\n"
     ]
    }
   ],
   "source": [
    "#16)Find the sum of even and product of odd from given number\n",
    "def Even_Odd(num):\n",
    "    even = 0\n",
    "    odd = 1\n",
    "    while(num):\n",
    "        rem = num % 10\n",
    "        if(rem % 2 == 0):  \n",
    "            even += rem\n",
    "        else:  #\n",
    "            odd *= rem\n",
    "        \n",
    "        num = num // 10  \n",
    "    \n",
    "    print(\"Sum of even digits:\", even)\n",
    "    print(\"Product of odd digits:\", odd)\n",
    "\n",
    "num = int(input(\"Enter a number:\\n\"))\n",
    "Even_Odd(num)"
   ]
  },
  {
   "cell_type": "code",
   "execution_count": 23,
   "id": "601f6965-61ad-4d65-a8ad-21fbc2bb3cc5",
   "metadata": {},
   "outputs": [
    {
     "name": "stdin",
     "output_type": "stream",
     "text": [
      "Enter a number:\n",
      " -78\n"
     ]
    },
    {
     "name": "stdout",
     "output_type": "stream",
     "text": [
      "-78  is Negative\n"
     ]
    }
   ],
   "source": [
    "#17) check whether number is positive or negative \n",
    "def check_number(num):\n",
    "    if num > 0:\n",
    "        print(num, \"is Positive\")\n",
    "    elif num < 0:\n",
    "        print(num,\" is Negative\")\n",
    "    else:\n",
    "        print(num,\" is Zero \") \n",
    "\n",
    "num = int(input(\"Enter a number:\\n\"))\n",
    "check_number(num)"
   ]
  },
  {
   "cell_type": "code",
   "execution_count": null,
   "id": "3cc290ea-b96c-4610-a815-5015f3c7e2d2",
   "metadata": {},
   "outputs": [],
   "source": []
  },
  {
   "cell_type": "code",
   "execution_count": null,
   "id": "829c2071-6378-4999-9624-96f1fb734416",
   "metadata": {},
   "outputs": [],
   "source": []
  },
  {
   "cell_type": "code",
   "execution_count": null,
   "id": "cc1772f3-50c4-4166-9e4f-6ccbab16b5f8",
   "metadata": {},
   "outputs": [],
   "source": []
  },
  {
   "cell_type": "code",
   "execution_count": null,
   "id": "f20d65c9-97db-4680-bd6e-c38fa1513718",
   "metadata": {},
   "outputs": [],
   "source": []
  },
  {
   "cell_type": "code",
   "execution_count": null,
   "id": "c5db90ef-a768-46bc-a9f2-b65902a65048",
   "metadata": {},
   "outputs": [],
   "source": []
  },
  {
   "cell_type": "code",
   "execution_count": null,
   "id": "633caa1a-e7b3-48c5-a4de-7c8bd0cb572f",
   "metadata": {},
   "outputs": [],
   "source": []
  },
  {
   "cell_type": "code",
   "execution_count": null,
   "id": "8b6ed969-4cd6-4a4b-aec6-f7bd70af9a8a",
   "metadata": {},
   "outputs": [],
   "source": []
  },
  {
   "cell_type": "code",
   "execution_count": null,
   "id": "3a57bbb0-a562-47c4-9157-faea21ddbeb2",
   "metadata": {},
   "outputs": [],
   "source": []
  },
  {
   "cell_type": "code",
   "execution_count": null,
   "id": "02504077-dc85-4655-95e2-f9fd962f17d3",
   "metadata": {},
   "outputs": [],
   "source": []
  },
  {
   "cell_type": "code",
   "execution_count": null,
   "id": "ab126b47-d572-474e-a9ab-b8f464b91771",
   "metadata": {},
   "outputs": [],
   "source": []
  }
 ],
 "metadata": {
  "kernelspec": {
   "display_name": "Python 3 (ipykernel)",
   "language": "python",
   "name": "python3"
  },
  "language_info": {
   "codemirror_mode": {
    "name": "ipython",
    "version": 3
   },
   "file_extension": ".py",
   "mimetype": "text/x-python",
   "name": "python",
   "nbconvert_exporter": "python",
   "pygments_lexer": "ipython3",
   "version": "3.11.7"
  }
 },
 "nbformat": 4,
 "nbformat_minor": 5
}
