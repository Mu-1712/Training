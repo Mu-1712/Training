{
 "cells": [
  {
   "cell_type": "code",
   "execution_count": 7,
   "id": "be38912f-d4fb-43ce-b18a-dc327c264047",
   "metadata": {},
   "outputs": [
    {
     "name": "stdin",
     "output_type": "stream",
     "text": [
      "enter your string vaav\n"
     ]
    },
    {
     "name": "stdout",
     "output_type": "stream",
     "text": [
      "Palindrome\n"
     ]
    }
   ],
   "source": [
    "#1) Palindrome of a strings\n",
    "tring = input(\"enter your string\")\n",
    "string = string.lower()\n",
    "if string==string[::-1]:\n",
    "    print(\"Palindrome\")\n",
    "else:\n",
    "    print(\"not palindrome\")\n",
    "    \n"
   ]
  },
  {
   "cell_type": "code",
   "execution_count": 15,
   "id": "2b2cfc03-3e41-426a-995c-138655399095",
   "metadata": {},
   "outputs": [
    {
     "name": "stdin",
     "output_type": "stream",
     "text": [
      "enter the number 342\n"
     ]
    },
    {
     "name": "stdout",
     "output_type": "stream",
     "text": [
      "Not a Palindrome\n"
     ]
    }
   ],
   "source": [
    "#2) Palindrome of a number\n",
    "num = int(input(\"enter the number\"))\n",
    "temp=num\n",
    "rev=0\n",
    "while(temp):\n",
    "    rem = temp%10\n",
    "    rev = rev*10 + rem\n",
    "    temp = temp//10\n",
    "if(rev == num):\n",
    "    print(\"Palindrome\")\n",
    "else:\n",
    "    print(\"Not a Palindrome\")"
   ]
  },
  {
   "cell_type": "code",
   "execution_count": 35,
   "id": "508ca545-739a-4dca-bfde-ee65b869101c",
   "metadata": {},
   "outputs": [
    {
     "name": "stdin",
     "output_type": "stream",
     "text": [
      "Enter 1st string value world\n",
      "Enter 2nd string value hello\n"
     ]
    },
    {
     "name": "stdout",
     "output_type": "stream",
     "text": [
      "world, hello are not anagrams\n"
     ]
    }
   ],
   "source": [
    "#3) Check anagram of String\n",
    "s1=input(\"Enter 1st string value\")\n",
    "s2=input(\"Enter 2nd string value\")\n",
    "def check_anagram(s1, s2):\n",
    "    if(sorted(s1) == sorted(s2)):\n",
    "        print(f\"{s1}, {s2} are anagrams\")\n",
    "    else:\n",
    "        print(f\"{s1}, {s2} are not anagrams\")\n",
    "\n",
    "check_anagram(s1,s2)"
   ]
  },
  {
   "cell_type": "code",
   "execution_count": 63,
   "id": "5097345d-f6f8-4f11-96d7-2cc7a6abd4b6",
   "metadata": {},
   "outputs": [
    {
     "name": "stdin",
     "output_type": "stream",
     "text": [
      "Enter 1st string value vile\n",
      "Enter 2nd string value evil\n"
     ]
    },
    {
     "name": "stdout",
     "output_type": "stream",
     "text": [
      "Anagram\n"
     ]
    }
   ],
   "source": [
    "#4) Altenate way to Check anagram of String\n",
    "s1=input(\"Enter 1st string value\")\n",
    "s2=input(\"Enter 2nd string value\")\n",
    "def count_character(s):\n",
    "    # Returns a frequency dictionary of characters in the string\n",
    "    count = {}\n",
    "    for char in s:\n",
    "        count[char] = count.get(char, 0) + 1\n",
    "    return count\n",
    "\n",
    "def check_anagram(s1, s2):\n",
    "    if len(s1) != len(s2):  # Check lengths\n",
    "        print(\"Not Anagram\")\n",
    "        return\n",
    "    \n",
    "    count1 = count_character(s1)\n",
    "    count2 = count_character(s2)\n",
    "    \n",
    "    if count1 == count2:  # Compare character frequencies\n",
    "        print(\"Anagram\")\n",
    "    else:\n",
    "        print(\"Not Anagram\")\n",
    "\n",
    "check_anagram(s1, s2)\n"
   ]
  },
  {
   "cell_type": "code",
   "execution_count": 43,
   "id": "d6d7cd4d-c700-4796-b924-5fb9c1f4afb2",
   "metadata": {},
   "outputs": [
    {
     "name": "stdout",
     "output_type": "stream",
     "text": [
      "Non-repeated elements: [2, 3, 5]\n"
     ]
    }
   ],
   "source": [
    "#5) print non repeated elements, character in ararys or string\n",
    "def find_non_repeated_elements(arr):\n",
    "    # Count occurrences using a dictionary\n",
    "    count = {}\n",
    "    for num in arr:\n",
    "        count[num] = count.get(num, 0) + 1\n",
    "\n",
    "    # Extract non-repeated elements\n",
    "    non_repeated = [key for key, value in count.items() if value == 1]\n",
    "    return non_repeated\n",
    "\n",
    "# Input array\n",
    "arr = [1, 1, 2, 3, 4, 4, 5]\n",
    "\n",
    "# Find and print non-repeated elements\n",
    "non_repeated = find_non_repeated_elements(arr)\n",
    "print(\"Non-repeated elements:\", non_repeated)\n"
   ]
  },
  {
   "cell_type": "code",
   "execution_count": 47,
   "id": "9bfd51fc-1605-4dc4-8760-7a786f73960e",
   "metadata": {},
   "outputs": [
    {
     "name": "stdout",
     "output_type": "stream",
     "text": [
      "Non-repeated elements: [2, 3, 5]\n"
     ]
    }
   ],
   "source": [
    "#6) Alternative print non repeated elements, character in ararys or string\n",
    "def find_non_repeated_elements(arr):\n",
    "    non_repeated = []\n",
    "    for i in range(len(arr)):\n",
    "        # Check if the element's first occurrence is the same as its last occurrence\n",
    "        if arr.index(arr[i]) == len(arr) - 1 - arr[::-1].index(arr[i]):\n",
    "            non_repeated.append(arr[i])\n",
    "    return non_repeated\n",
    "\n",
    "# Input array\n",
    "arr = [1, 1, 2, 3, 4, 4, 5]\n",
    "\n",
    "# Find and print non-repeated elements\n",
    "non_repeated = find_non_repeated_elements(arr)\n",
    "print(\"Non-repeated elements:\", non_repeated)\n"
   ]
  },
  {
   "cell_type": "code",
   "execution_count": 73,
   "id": "1c7d9d62-aec1-40fe-8770-38150c662e2b",
   "metadata": {},
   "outputs": [
    {
     "name": "stdin",
     "output_type": "stream",
     "text": [
      "enter string value Ariyan\n"
     ]
    },
    {
     "name": "stdout",
     "output_type": "stream",
     "text": [
      "Length of string is:  6\n"
     ]
    }
   ],
   "source": [
    "#7) Find length of string without length?\n",
    "s1 = input(\"enter string value\")\n",
    "\n",
    "i=0\n",
    "for char in s1:\n",
    "    i+=1\n",
    "print(\"Length of string is: \", i)"
   ]
  },
  {
   "cell_type": "code",
   "execution_count": 75,
   "id": "7fdae263-17c9-4952-a0d6-e78c48e030c8",
   "metadata": {},
   "outputs": [
    {
     "name": "stdin",
     "output_type": "stream",
     "text": [
      "enter string value Musharraf\n"
     ]
    },
    {
     "name": "stdout",
     "output_type": "stream",
     "text": [
      "9\n"
     ]
    }
   ],
   "source": [
    "#8) Find length of string with length function?\n",
    "s1 = input(\"enter string value\")\n",
    "print(len(s1))"
   ]
  },
  {
   "cell_type": "code",
   "execution_count": 79,
   "id": "5b41fd65-9c4d-41ed-b11f-b6f6f1b39842",
   "metadata": {},
   "outputs": [
    {
     "name": "stdin",
     "output_type": "stream",
     "text": [
      "Enter the string  Mush rra f\n"
     ]
    },
    {
     "name": "stdout",
     "output_type": "stream",
     "text": [
      "String without spaces:  Mushrraf\n"
     ]
    }
   ],
   "source": [
    "#9)remove the spaces from string\n",
    "def remove_spaces(s):\n",
    "    result= \"\"\n",
    "    for char in s:\n",
    "        if char!=\" \":\n",
    "            result+=char\n",
    "    return result\n",
    "\n",
    "s= input(\"Enter the string\")\n",
    "\n",
    "result=remove_spaces(s)\n",
    "print(\"String without spaces: \", result)"
   ]
  },
  {
   "cell_type": "code",
   "execution_count": 85,
   "id": "6f200cec-b266-461c-b964-fa55fde3802b",
   "metadata": {},
   "outputs": [
    {
     "name": "stdin",
     "output_type": "stream",
     "text": [
      "Enter the string Mush@#12\n"
     ]
    },
    {
     "name": "stdout",
     "output_type": "stream",
     "text": [
      "Mush\n"
     ]
    }
   ],
   "source": [
    "#10) remove the spaces from string\n",
    "def remove_symbols(s):\n",
    "    result= \"\"\n",
    "    for char in s:\n",
    "        if ('a'<=char<='z')or('A'<=char<'Z'):\n",
    "            result+=char\n",
    "    return result\n",
    "\n",
    "s= input(\"Enter the string\")\n",
    "\n",
    "clean_data=remove_symbols(s)\n",
    "print(clean_data)"
   ]
  },
  {
   "cell_type": "code",
   "execution_count": 93,
   "id": "e557bf1d-45a3-4da0-8e72-287c750b584f",
   "metadata": {},
   "outputs": [
    {
     "name": "stdin",
     "output_type": "stream",
     "text": [
      "Enter number 153\n"
     ]
    },
    {
     "name": "stdout",
     "output_type": "stream",
     "text": [
      "153 is Armstrong\n"
     ]
    }
   ],
   "source": [
    "#11)Chech whether numbe is armstrong or not?\n",
    "num=int(input(\"Enter number\"))\n",
    "temp = num\n",
    "rev=0\n",
    "while(temp):\n",
    "    rem=temp%10\n",
    "    rev=rev+(rem*rem*rem)\n",
    "    temp=temp//10\n",
    "if(rev==num):\n",
    "    print(f\"{num} is Armstrong Number\")\n",
    "else:\n",
    "    print(f\"{num} is not Armstrong Number\")"
   ]
  },
  {
   "cell_type": "code",
   "execution_count": 95,
   "id": "3d46a11b-407d-40ab-aec2-bceef158cf92",
   "metadata": {},
   "outputs": [
    {
     "name": "stdin",
     "output_type": "stream",
     "text": [
      "Enter number 9474\n"
     ]
    },
    {
     "name": "stdout",
     "output_type": "stream",
     "text": [
      "9474 is Armstrong Number\n"
     ]
    }
   ],
   "source": [
    "#12)Chech whether numbe is armstrong or not?\n",
    "num=int(input(\"Enter number\"))\n",
    "temp = num\n",
    "rev=0\n",
    "n_digits = len(str(num)) \n",
    "while(temp):\n",
    "    rem=temp%10\n",
    "    rev += pow(rem, n_digits) \n",
    "    temp=temp//10\n",
    "if(rev==num):\n",
    "    print(f\"{num} is Armstrong Number\")\n",
    "else:\n",
    "    print(f\"{num} is not Armstrong Number\")"
   ]
  },
  {
   "cell_type": "code",
   "execution_count": null,
   "id": "eb360415-b558-4212-a84f-97cf38f187f4",
   "metadata": {},
   "outputs": [],
   "source": [
    "#13)Chech whether numbe is Perfect Number or not?\n",
    "def check_perfect(num):\n",
    "    sum_of_divisors=0\n",
    "    for i in range(1, num):\n",
    "        if num%i==0:\n",
    "            sum_of_divisors +=i\n",
    "    if sum_of_divisors==num:\n",
    "        print(f\"{num} , is perfect Number\")\n",
    "    else:\n",
    "        print(f\"{num} , is not perfect Number\")\n",
    "\n",
    "num = int(input(\"Enter a number:\\n\"))\n",
    "check_perfect(num)"
   ]
  },
  {
   "cell_type": "code",
   "execution_count": 1,
   "id": "96845e74-41a4-4211-8552-b5eb4e69f0fe",
   "metadata": {},
   "outputs": [
    {
     "name": "stdin",
     "output_type": "stream",
     "text": [
      "Enter a number:\n",
      " 140\n"
     ]
    },
    {
     "name": "stdout",
     "output_type": "stream",
     "text": [
      "140 is not a Strong Number\n"
     ]
    }
   ],
   "source": [
    "#14)Chech whether numbe is Strong Number or not?\n",
    "#A Strong Number (also known as a Krishnamurthy Number) is a number\n",
    "#where the sum of the factorial of each digit is equal to the number itself\n",
    "def Check_strong(num):\n",
    "    sum_of_factorial = 0\n",
    "    temp = num\n",
    "    \n",
    "    # Iterate over each digit of the number\n",
    "    while temp:\n",
    "        digit = temp % 10\n",
    "        fact = 1\n",
    "        # Calculate factorial of the digit\n",
    "        for i in range(1, digit + 1):\n",
    "            fact *= i\n",
    "        sum_of_factorial += fact\n",
    "        temp //= 10  # Reduce the number by removing the last digit\n",
    "\n",
    "    # After the loop, check if the sum of factorials equals the number\n",
    "    if sum_of_factorial == num:\n",
    "        print(f\"{num} is a Strong Number\")\n",
    "    else:\n",
    "        print(f\"{num} is not a Strong Number\")\n",
    "\n",
    "# Input from the user\n",
    "num = int(input(\"Enter a number:\\n\"))\n",
    "Check_strong(num)\n"
   ]
  },
  {
   "cell_type": "code",
   "execution_count": 17,
   "id": "8a0398d2-a4ca-466a-8215-ab3baf861795",
   "metadata": {},
   "outputs": [
    {
     "name": "stdin",
     "output_type": "stream",
     "text": [
      "Enter a number:\n",
      " 5\n"
     ]
    },
    {
     "name": "stdout",
     "output_type": "stream",
     "text": [
      "5 factorial is: 120\n"
     ]
    }
   ],
   "source": [
    "num = int(input(\"Enter a number:\\n\"))\n",
    "def findfactorial(num):\n",
    "    fact=1\n",
    "    for i in range(1, num+1):\n",
    "        fact*=i\n",
    "    return fact\n",
    "result = findfactorial(num)\n",
    "print(f\"{num} factorial is:\",result)"
   ]
  },
  {
   "cell_type": "code",
   "execution_count": null,
   "id": "03c4f011-02bc-4620-98f9-12a5cf569cbc",
   "metadata": {},
   "outputs": [],
   "source": []
  }
 ],
 "metadata": {
  "kernelspec": {
   "display_name": "Python 3 (ipykernel)",
   "language": "python",
   "name": "python3"
  },
  "language_info": {
   "codemirror_mode": {
    "name": "ipython",
    "version": 3
   },
   "file_extension": ".py",
   "mimetype": "text/x-python",
   "name": "python",
   "nbconvert_exporter": "python",
   "pygments_lexer": "ipython3",
   "version": "3.11.7"
  }
 },
 "nbformat": 4,
 "nbformat_minor": 5
}
