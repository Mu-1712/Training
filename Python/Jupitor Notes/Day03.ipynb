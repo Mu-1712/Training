{
 "cells": [
  {
   "cell_type": "code",
   "execution_count": 4,
   "id": "157d5a59-1b1f-4693-8e93-8bf60de0a7e4",
   "metadata": {},
   "outputs": [
    {
     "name": "stdout",
     "output_type": "stream",
     "text": [
      "Length of list: 7\n"
     ]
    }
   ],
   "source": [
    "MaddockUniverse = [21, \"Stree\", 14.5, \"Munjya\", 12, \"SarKata\", 54.2]\n",
    "print(\"Length of list:\",len(data))"
   ]
  },
  {
   "cell_type": "code",
   "execution_count": 11,
   "id": "b82d030e-bd3d-4285-8cc9-67c61e565ef6",
   "metadata": {},
   "outputs": [
    {
     "name": "stdout",
     "output_type": "stream",
     "text": [
      "[21, 'Stree', 14.5, 'Munjya', 12, 'SarKata', 54.2, 'Bhediya']\n"
     ]
    }
   ],
   "source": [
    "MaddockUniverse = [21, \"Stree\", 14.5, \"Munjya\", 12, \"SarKata\", 54.2]\n",
    "MaddockUniverse.insert(8,\"Bhediya\")\n",
    "print(MaddockUniverse)"
   ]
  },
  {
   "cell_type": "code",
   "execution_count": 54,
   "id": "c48a12e0-105b-4d89-8f57-b2709afd18d0",
   "metadata": {},
   "outputs": [
    {
     "name": "stdin",
     "output_type": "stream",
     "text": [
      "Enter a list:  'cr','yash','remo','musharaf','dugraprasad'\n"
     ]
    },
    {
     "name": "stdout",
     "output_type": "stream",
     "text": [
      "the longest string is:'dugraprasad'\n"
     ]
    }
   ],
   "source": [
    "#Q1 to display the longest data element in the given list\n",
    "x=input(\"Enter a list: \")\n",
    "y=x.split(',')\n",
    "z=max(y,key=len)\n",
    "print(f\"the longest string is:{z}\")"
   ]
  },
  {
   "cell_type": "code",
   "execution_count": 62,
   "id": "587b9308-68cb-4db7-948e-7030870db0d5",
   "metadata": {},
   "outputs": [
    {
     "name": "stdin",
     "output_type": "stream",
     "text": [
      "Enter a list: \"dp\", \"dp\", \"kp\", \"mp\"\n"
     ]
    },
    {
     "name": "stdout",
     "output_type": "stream",
     "text": [
      "dupliocates: []\n"
     ]
    }
   ],
   "source": [
    "#Q2 Display all duplicates from list\n",
    "data = input(\"Enter a list:\")\n",
    "data = data.strip('[]').replace('\"', '').split(',') \n",
    "seen=set()\n",
    "duplicate=set()\n",
    "for element in data:\n",
    "    if data.count(element)>1 and element not in seen:\n",
    "         duplicate.add(element)\n",
    "    seen.add(element)\n",
    "print(\"dupliocates:\",list(duplicate))    "
   ]
  },
  {
   "cell_type": "code",
   "execution_count": 55,
   "id": "4f29e8e6-bf7f-4e66-8736-714e02321151",
   "metadata": {
    "scrolled": true
   },
   "outputs": [
    {
     "name": "stdin",
     "output_type": "stream",
     "text": [
      "Enter a list:  MUSHARAF\n"
     ]
    },
    {
     "name": "stdout",
     "output_type": "stream",
     "text": [
      "Entered list in lower case: ['musharaf']\n"
     ]
    }
   ],
   "source": [
    "#Q3 Lowercase all the lower in given string\n",
    "x=input(\"Enter a list: \")\n",
    "y=x.split()\n",
    "lowercase=[word.lower() for word in y]\n",
    "print(\"Entered list in lower case:\", lowercase)"
   ]
  },
  {
   "cell_type": "code",
   "execution_count": 63,
   "id": "14688f7e-1770-4f70-a1a8-334ffeabefaa",
   "metadata": {},
   "outputs": [
    {
     "name": "stdin",
     "output_type": "stream",
     "text": [
      "enter the string SFGDFHD\n"
     ]
    },
    {
     "name": "stdout",
     "output_type": "stream",
     "text": [
      "SFGDFHD\n",
      "DHFDGFS\n"
     ]
    }
   ],
   "source": [
    "#Q4 reverse all the string elements in the given list\n",
    "x=input('enter the string')\n",
    "print(x)\n",
    "y=x[::-1]\n",
    "print(y)"
   ]
  },
  {
   "cell_type": "code",
   "execution_count": 64,
   "id": "219f4028-b0e8-47cf-a858-62628a384a22",
   "metadata": {},
   "outputs": [
    {
     "name": "stdin",
     "output_type": "stream",
     "text": [
      "Enter a list: \"dp\", \"dp\", \"kp\", \"mp\"\n"
     ]
    },
    {
     "name": "stdout",
     "output_type": "stream",
     "text": [
      "dupliocates: []\n"
     ]
    }
   ],
   "source": [
    "# Display all duplicates from list\n",
    "data = input(\"Enter a list:\")\n",
    "data = data.strip('[]').replace('\"', '').split(',') \n",
    "seen=set()\n",
    "duplicate=set()\n",
    "for element in data:\n",
    "    if data.count(element)>1 and element not in seen:\n",
    "         duplicate.add(element)\n",
    "    seen.add(element)\n",
    "print(\"dupliocates:\",list(duplicate))        "
   ]
  },
  {
   "cell_type": "code",
   "execution_count": 65,
   "id": "060fbd37-ea3e-47dc-b2ac-b57b757ea4af",
   "metadata": {},
   "outputs": [
    {
     "name": "stdin",
     "output_type": "stream",
     "text": [
      "enter the 1st number:  45\n",
      "enter the 2nd number:  42\n",
      "enter the 3rd number:  24\n",
      "enter the 4th number:  58\n",
      "enter the 5th number:  52\n"
     ]
    },
    {
     "name": "stdout",
     "output_type": "stream",
     "text": [
      "the 2nd max of five numbers is: 45\n"
     ]
    }
   ],
   "source": [
    "#Q5 2nd largest\n",
    "def maxof5(p,q,x,y,z):\n",
    "\n",
    " max1=p\n",
    "\n",
    " max2=q\n",
    "\n",
    " temp=0\n",
    "\n",
    " if(max1<max2):\n",
    "\n",
    "  max1=temp\n",
    "\n",
    "  max1=max2\n",
    "\n",
    "  max2=temp\n",
    "\n",
    " if(max1<x):\n",
    "\n",
    "  max2=max1\n",
    "\n",
    "  max1=x\n",
    "\n",
    " if(max1<y):\n",
    "\n",
    "  max2=max1\n",
    "\n",
    "  max1=y\n",
    "\n",
    " if(max1<z):\n",
    "\n",
    "  max2=max1\n",
    "\n",
    "  max1=z\n",
    "\n",
    " print(\"the 2nd max of five numbers is:\", max2)\n",
    "\n",
    "a=int(input(\"enter the 1st number: \"))\n",
    "\n",
    "b=int(input(\"enter the 2nd number: \"))\n",
    "\n",
    "c=int(input(\"enter the 3rd number: \"))\n",
    "\n",
    "d=int(input(\"enter the 4th number: \"))\n",
    "\n",
    "e=int(input(\"enter the 5th number: \"))\n",
    "\n",
    "maxof5(a,b,c,d,e)"
   ]
  },
  {
   "cell_type": "code",
   "execution_count": 71,
   "id": "9add7afe-8e37-4e4e-9e52-aac16b1c4756",
   "metadata": {},
   "outputs": [
    {
     "name": "stdout",
     "output_type": "stream",
     "text": [
      "1729685727.8275557\n"
     ]
    }
   ],
   "source": [
    "import time\n",
    "ticks = time.time()\n",
    "print(ticks)"
   ]
  },
  {
   "cell_type": "code",
   "execution_count": null,
   "id": "5743c5a4-b8ac-4d06-808c-7f47c0a6309d",
   "metadata": {},
   "outputs": [],
   "source": [
    "x = time.local(time.time())\n",
    "print(\"Local time: \")"
   ]
  }
 ],
 "metadata": {
  "kernelspec": {
   "display_name": "Python 3 (ipykernel)",
   "language": "python",
   "name": "python3"
  },
  "language_info": {
   "codemirror_mode": {
    "name": "ipython",
    "version": 3
   },
   "file_extension": ".py",
   "mimetype": "text/x-python",
   "name": "python",
   "nbconvert_exporter": "python",
   "pygments_lexer": "ipython3",
   "version": "3.11.7"
  },
  "widgets": {
   "application/vnd.jupyter.widget-state+json": {
    "state": {},
    "version_major": 2,
    "version_minor": 0
   }
  }
 },
 "nbformat": 4,
 "nbformat_minor": 5
}
