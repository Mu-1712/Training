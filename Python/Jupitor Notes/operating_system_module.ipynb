{
 "cells": [
  {
   "cell_type": "code",
   "execution_count": 4,
   "id": "f17227fe",
   "metadata": {},
   "outputs": [
    {
     "name": "stdout",
     "output_type": "stream",
     "text": [
      "<class 'str'>\n",
      "C:\\Users\\gauth\n"
     ]
    }
   ],
   "source": [
    "import os\n",
    "\n",
    "a=os.getcwd()\n",
    "\n",
    "print(type(a))\n",
    "print(a)"
   ]
  },
  {
   "cell_type": "code",
   "execution_count": 8,
   "id": "d796cdb2",
   "metadata": {},
   "outputs": [
    {
     "name": "stdout",
     "output_type": "stream",
     "text": [
      "d:\\files\n",
      "['hello', 'temp.txt']\n"
     ]
    }
   ],
   "source": [
    "os.chdir('d:/files')\n",
    "print(os.getcwd())\n",
    "print(os.listdir())"
   ]
  },
  {
   "cell_type": "code",
   "execution_count": 9,
   "id": "cbf43da0",
   "metadata": {},
   "outputs": [
    {
     "name": "stdout",
     "output_type": "stream",
     "text": [
      "Folder created at d:/files/home\n"
     ]
    }
   ],
   "source": [
    "import os\n",
    "\n",
    "# Specify the path of the folder you want to check/create\n",
    "folder_path = 'd:/files/home'\n",
    "\n",
    "# Check if the folder exists\n",
    "if not os.path.exists(folder_path):\n",
    "    # If not, create the folder\n",
    "    os.makedirs(folder_path)\n",
    "    print(f\"Folder created at {folder_path}\")\n",
    "else:\n",
    "    print(f\"Folder already exists at {folder_path}\")\n"
   ]
  },
  {
   "cell_type": "code",
   "execution_count": 10,
   "id": "420eeb5d",
   "metadata": {},
   "outputs": [
    {
     "name": "stdout",
     "output_type": "stream",
     "text": [
      "Renamed 'd:/files/home' to 'd:/files/new_home'\n"
     ]
    }
   ],
   "source": [
    "import os\n",
    "\n",
    "# Specify the current name and new name of the file/folder\n",
    "current_name = 'd:/files/home'\n",
    "new_name = 'd:/files/new_home'\n",
    "\n",
    "# Rename the file/folder\n",
    "os.rename(current_name, new_name)\n",
    "\n",
    "print(f\"Renamed '{current_name}' to '{new_name}'\")\n"
   ]
  },
  {
   "cell_type": "code",
   "execution_count": 13,
   "id": "9ec08b3c",
   "metadata": {},
   "outputs": [
    {
     "name": "stdout",
     "output_type": "stream",
     "text": [
      "Text file found at: d:/files\\temp.txt\n"
     ]
    }
   ],
   "source": [
    "import os\n",
    "\n",
    "# Specify the root directory to start the search\n",
    "root_dir = 'd:/files'\n",
    "\n",
    "# Function to search for a text file inside a directory\n",
    "def search_for_text_file(directory):\n",
    "    for dirpath, dirnames, filenames in os.walk(directory):\n",
    "        for filename in filenames:\n",
    "            if filename.endswith('.txt'):\n",
    "                # If the file ends with '.txt', it's a text file\n",
    "                return os.path.join(dirpath, filename)\n",
    "\n",
    "# Call the function with the root directory to search for the text file\n",
    "text_file_path = search_for_text_file(root_dir)\n",
    "\n",
    "if text_file_path:\n",
    "    print(f\"Text file found at: {text_file_path}\")\n",
    "else:\n",
    "    print(\"Text file not found.\")\n"
   ]
  },
  {
   "cell_type": "code",
   "execution_count": 12,
   "id": "5466a60c",
   "metadata": {},
   "outputs": [
    {
     "name": "stdout",
     "output_type": "stream",
     "text": [
      "File found at: d:/files\\new_home\\oldhome.txt\n"
     ]
    }
   ],
   "source": [
    "import os\n",
    "\n",
    "# Specify the root directory to start the search\n",
    "root_dir = 'd:/files'\n",
    "target_file_name = 'oldhome.txt'  # specify the name of the target file\n",
    "\n",
    "# Function to search for a file by name inside a directory\n",
    "def search_for_file(directory, file_name):\n",
    "    for dirpath, dirnames, filenames in os.walk(directory):\n",
    "        for filename in filenames:\n",
    "            if filename == file_name:\n",
    "                # If the file name matches, return the full path of the file\n",
    "                return os.path.join(dirpath, filename)\n",
    "\n",
    "# Call the function with the root directory and target file name\n",
    "file_path = search_for_file(root_dir, target_file_name)\n",
    "\n",
    "if file_path:\n",
    "    print(f\"File found at: {file_path}\")\n",
    "else:\n",
    "    print(\"File not found.\")\n"
   ]
  },
  {
   "cell_type": "code",
   "execution_count": 1,
   "id": "04d3c3f7",
   "metadata": {},
   "outputs": [
    {
     "name": "stdout",
     "output_type": "stream",
     "text": [
      "File 'oldhome.docx' copied to 'd:/files/old_home'\n",
      "File 'oldhome.pptx' copied to 'd:/files/old_home'\n",
      "File 'oldhome.txt' copied to 'd:/files/old_home'\n",
      "File 'oldhome.xlsx' copied to 'd:/files/old_home'\n"
     ]
    }
   ],
   "source": [
    "import os\n",
    "import shutil\n",
    "\n",
    "# Specify the source and destination directories\n",
    "source_dir = 'd:/files/new_home'\n",
    "destination_dir = 'd:/files/old_home'\n",
    "\n",
    "# Get the list of files in the source directory\n",
    "files = os.listdir(source_dir)\n",
    "\n",
    "# Iterate through the files in the source directory\n",
    "for file in files:\n",
    "    source_path = os.path.join(source_dir, file)\n",
    "    destination_path = os.path.join(destination_dir, file)\n",
    "\n",
    "    # Check if the file is a regular file (not a directory)\n",
    "    if os.path.isfile(source_path):\n",
    "        # Copy the file to the destination directory\n",
    "        shutil.copy2(source_path, destination_path)\n",
    "        print(f\"File '{file}' copied to '{destination_dir}'\")\n"
   ]
  },
  {
   "cell_type": "code",
   "execution_count": 3,
   "id": "b1ebe07e",
   "metadata": {},
   "outputs": [
    {
     "name": "stdout",
     "output_type": "stream",
     "text": [
      "File 'oldhome.txt' copied to 'd:/files/hello'\n"
     ]
    }
   ],
   "source": [
    "import os\n",
    "import shutil\n",
    "\n",
    "# Specify the source and destination directories\n",
    "source_dir = 'd:/files/old_home'\n",
    "destination_dir = 'd:/files/hello'\n",
    "\n",
    "# Specify the file extension of the files you want to copy\n",
    "file_extension = '.txt'  # change to the desired file extension\n",
    "\n",
    "# Get the list of files in the source directory\n",
    "files = os.listdir(source_dir)\n",
    "\n",
    "# Iterate through the files in the source directory\n",
    "for file in files:\n",
    "    source_path = os.path.join(source_dir, file)\n",
    "    destination_path = os.path.join(destination_dir, file)\n",
    "\n",
    "    # Check if the file is a regular file (not a directory)\n",
    "    if os.path.isfile(source_path) and file.endswith(file_extension):\n",
    "        # Copy the file to the destination directory\n",
    "        shutil.copy2(source_path, destination_path)\n",
    "        print(f\"File '{file}' copied to '{destination_dir}'\")\n"
   ]
  },
  {
   "cell_type": "code",
   "execution_count": 1,
   "id": "15e514a6",
   "metadata": {},
   "outputs": [
    {
     "name": "stdout",
     "output_type": "stream",
     "text": [
      "File 'oldhome.docx' moved to 'document_files' folder.\n",
      "File 'oldhome.pptx' moved to 'powerpoint_filse' folder.\n",
      "File 'oldhome.txt' moved to 'txt_files' folder.\n",
      "File 'oldhome.xlsx' moved to 'excel_files' folder.\n",
      "File 'updated_home.txt' moved to 'txt_files' folder.\n"
     ]
    }
   ],
   "source": [
    "import os\n",
    "import shutil\n",
    "\n",
    "# Specify the source directory\n",
    "source_dir = 'd:/files/new_demo'\n",
    "\n",
    "# Get the list of files in the source directory\n",
    "files = os.listdir(source_dir)\n",
    "\n",
    "# Create a dictionary to map file extensions to their respective folders\n",
    "file_types = {\n",
    "    '.txt': 'txt_files',\n",
    "    '.docx': 'document_files',\n",
    "    '.pptx': 'powerpoint_filse',\n",
    "    '.xlsx': 'excel_files',\n",
    "    # Add more file types and corresponding folder names here\n",
    "}\n",
    "\n",
    "# Iterate through the files in the source directory\n",
    "for file in files:\n",
    "    source_path = os.path.join(source_dir, file)\n",
    "\n",
    "    # Check if the file is a regular file (not a directory)\n",
    "    if os.path.isfile(source_path):\n",
    "        # Get the file extension\n",
    "        file_extension = os.path.splitext(file)[1]\n",
    "\n",
    "        # Check if the file extension is in the file_types dictionary\n",
    "        if file_extension in file_types:\n",
    "            # Create the destination folder if it doesn't exist\n",
    "            destination_folder = file_types[file_extension]\n",
    "            destination_path = os.path.join(source_dir, destination_folder)\n",
    "            if not os.path.exists(destination_path):\n",
    "                os.makedirs(destination_path)\n",
    "\n",
    "            # Move the file to the destination folder\n",
    "            shutil.move(source_path, os.path.join(destination_path, file))\n",
    "            print(f\"File '{file}' moved to '{destination_folder}' folder.\")\n"
   ]
  },
  {
   "cell_type": "code",
   "execution_count": null,
   "id": "9847be9a",
   "metadata": {},
   "outputs": [],
   "source": []
  }
 ],
 "metadata": {
  "kernelspec": {
   "display_name": "Python 3 (ipykernel)",
   "language": "python",
   "name": "python3"
  },
  "language_info": {
   "codemirror_mode": {
    "name": "ipython",
    "version": 3
   },
   "file_extension": ".py",
   "mimetype": "text/x-python",
   "name": "python",
   "nbconvert_exporter": "python",
   "pygments_lexer": "ipython3",
   "version": "3.9.13"
  }
 },
 "nbformat": 4,
 "nbformat_minor": 5
}
