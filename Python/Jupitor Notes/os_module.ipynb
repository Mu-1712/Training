{
 "cells": [
  {
   "cell_type": "code",
   "execution_count": 40,
   "metadata": {},
   "outputs": [],
   "source": [
    "import os\n",
    "#print(dir(os))"
   ]
  },
  {
   "cell_type": "code",
   "execution_count": 3,
   "metadata": {},
   "outputs": [
    {
     "name": "stdout",
     "output_type": "stream",
     "text": [
      "C:\\Users\\gauth\n"
     ]
    }
   ],
   "source": [
    "#current directory\n",
    "print(os.getcwd())"
   ]
  },
  {
   "cell_type": "code",
   "execution_count": 5,
   "metadata": {},
   "outputs": [
    {
     "name": "stdout",
     "output_type": "stream",
     "text": [
      "C:\\Users\\gauth\\module\n"
     ]
    }
   ],
   "source": [
    "# to change directory\n",
    "os.chdir('C:/Users/gauth/module')\n",
    "print(os.getcwd())"
   ]
  },
  {
   "cell_type": "code",
   "execution_count": 7,
   "metadata": {},
   "outputs": [
    {
     "name": "stdout",
     "output_type": "stream",
     "text": [
      "['demo.txt', 'hello']\n"
     ]
    }
   ],
   "source": [
    "#to view files and folders\n",
    "print(os.listdir())"
   ]
  },
  {
   "cell_type": "code",
   "execution_count": 10,
   "metadata": {},
   "outputs": [],
   "source": [
    "#create new folder in directory\n",
    "os.mkdir('name') #for single folder\n",
    "os.makedirs('python/submodule') #for directory tree"
   ]
  },
  {
   "cell_type": "code",
   "execution_count": 11,
   "metadata": {
    "collapsed": true
   },
   "outputs": [],
   "source": [
    "# delete folders\n",
    "os.rmdir('name')\n",
    "os.removedirs('python/submodule')"
   ]
  },
  {
   "cell_type": "code",
   "execution_count": 15,
   "metadata": {},
   "outputs": [],
   "source": [
    "#rename\n",
    "#os.rename('hello','hi')\n",
    "#os.rename('demo.txt','text.txt')"
   ]
  },
  {
   "cell_type": "code",
   "execution_count": 21,
   "metadata": {},
   "outputs": [
    {
     "name": "stdout",
     "output_type": "stream",
     "text": [
      "os.stat_result(st_mode=33206, st_ino=22517998136906443, st_dev=2800807747, st_nlink=1, st_uid=0, st_gid=0, st_size=28, st_atime=1662213950, st_mtime=1662213949, st_ctime=1662213412)\n"
     ]
    }
   ],
   "source": [
    "#details \n",
    "print(os.stat('text.txt'))"
   ]
  },
  {
   "cell_type": "code",
   "execution_count": 22,
   "metadata": {},
   "outputs": [
    {
     "name": "stdout",
     "output_type": "stream",
     "text": [
      "28\n"
     ]
    }
   ],
   "source": [
    "print(os.stat('text.txt').st_size)"
   ]
  },
  {
   "cell_type": "code",
   "execution_count": 24,
   "metadata": {},
   "outputs": [
    {
     "name": "stdout",
     "output_type": "stream",
     "text": [
      "1662213949.9864018\n"
     ]
    }
   ],
   "source": [
    "#last modification time\n",
    "print(os.stat('text.txt').st_mtime)"
   ]
  },
  {
   "cell_type": "code",
   "execution_count": 26,
   "metadata": {},
   "outputs": [
    {
     "name": "stdout",
     "output_type": "stream",
     "text": [
      "2022-09-03 19:35:49.986402\n"
     ]
    }
   ],
   "source": [
    "#time stamp\n",
    "from datetime import datetime\n",
    "mod=os.stat('text.txt').st_mtime\n",
    "print(datetime.fromtimestamp(mod))"
   ]
  },
  {
   "cell_type": "code",
   "execution_count": 1,
   "metadata": {},
   "outputs": [
    {
     "name": "stdout",
     "output_type": "stream",
     "text": [
      "Cirrent Path: D:/files\n",
      "Directories: ['home', 'new_demo', 'new_home', 'old_home']\n",
      "files: ['demo.txt', 'django.docx']\n",
      "\n",
      "Cirrent Path: D:/files\\home\n",
      "Directories: []\n",
      "files: []\n",
      "\n",
      "Cirrent Path: D:/files\\new_demo\n",
      "Directories: ['document_files', 'excel_files', 'powerpoint_filse', 'txt_files']\n",
      "files: []\n",
      "\n",
      "Cirrent Path: D:/files\\new_demo\\document_files\n",
      "Directories: []\n",
      "files: ['oldhome.docx']\n",
      "\n",
      "Cirrent Path: D:/files\\new_demo\\excel_files\n",
      "Directories: []\n",
      "files: ['oldhome.xlsx']\n",
      "\n",
      "Cirrent Path: D:/files\\new_demo\\powerpoint_filse\n",
      "Directories: []\n",
      "files: ['oldhome.pptx']\n",
      "\n",
      "Cirrent Path: D:/files\\new_demo\\txt_files\n",
      "Directories: []\n",
      "files: ['oldhome.txt', 'updated_home.txt']\n",
      "\n",
      "Cirrent Path: D:/files\\new_home\n",
      "Directories: ['document_files', 'excel_files', 'powerpoint_filse', 'txt_files']\n",
      "files: []\n",
      "\n",
      "Cirrent Path: D:/files\\new_home\\document_files\n",
      "Directories: []\n",
      "files: ['oldhome.docx']\n",
      "\n",
      "Cirrent Path: D:/files\\new_home\\excel_files\n",
      "Directories: []\n",
      "files: ['oldhome.xlsx']\n",
      "\n",
      "Cirrent Path: D:/files\\new_home\\powerpoint_filse\n",
      "Directories: []\n",
      "files: ['oldhome.pptx']\n",
      "\n",
      "Cirrent Path: D:/files\\new_home\\txt_files\n",
      "Directories: []\n",
      "files: ['oldhome.txt']\n",
      "\n",
      "Cirrent Path: D:/files\\old_home\n",
      "Directories: []\n",
      "files: ['oldhome.docx', 'oldhome.pptx', 'oldhome.txt', 'oldhome.xlsx', 'updated_home.txt']\n",
      "\n"
     ]
    }
   ],
   "source": [
    "# entire derectory\n",
    "import os\n",
    "for dirpath,dirnames,filenames in os.walk('D:/files'):\n",
    "    print(\"Cirrent Path:\",dirpath)\n",
    "    print(\"Directories:\",dirnames)\n",
    "    print(\"files:\",filenames)\n",
    "    print()"
   ]
  },
  {
   "cell_type": "code",
   "execution_count": 29,
   "metadata": {},
   "outputs": [
    {
     "name": "stdout",
     "output_type": "stream",
     "text": [
      "None\n"
     ]
    }
   ],
   "source": [
    "#environ\n",
    "print(os.environ.get('C:/Users/gauth/module'))"
   ]
  },
  {
   "cell_type": "code",
   "execution_count": 30,
   "metadata": {},
   "outputs": [
    {
     "name": "stdout",
     "output_type": "stream",
     "text": [
      "C:\\Users\\gauth\\moduletest.text\n"
     ]
    }
   ],
   "source": [
    "#creating file\n",
    "filepath=os.getcwd()+'test.text'\n",
    "print(filepath)"
   ]
  },
  {
   "cell_type": "code",
   "execution_count": 32,
   "metadata": {},
   "outputs": [
    {
     "name": "stdout",
     "output_type": "stream",
     "text": [
      "C:\\Users\\gauth\\module\\test.txt\n"
     ]
    }
   ],
   "source": [
    "file_path=os.path.join(os.getcwd(),'test.txt')\n",
    "print(file_path)"
   ]
  },
  {
   "cell_type": "code",
   "execution_count": 33,
   "metadata": {
    "collapsed": true
   },
   "outputs": [],
   "source": [
    "with open(file_path,'w') as f:\n",
    "    f.write(\"hello\")"
   ]
  },
  {
   "cell_type": "code",
   "execution_count": 34,
   "metadata": {},
   "outputs": [
    {
     "name": "stdout",
     "output_type": "stream",
     "text": [
      "test.txt\n"
     ]
    }
   ],
   "source": [
    "#others\n",
    "print(os.path.basename('tmp/test.txt'))"
   ]
  },
  {
   "cell_type": "code",
   "execution_count": 35,
   "metadata": {},
   "outputs": [
    {
     "name": "stdout",
     "output_type": "stream",
     "text": [
      "tmp\n"
     ]
    }
   ],
   "source": [
    "print(os.path.dirname('tmp/test.txt'))"
   ]
  },
  {
   "cell_type": "code",
   "execution_count": 36,
   "metadata": {},
   "outputs": [
    {
     "name": "stdout",
     "output_type": "stream",
     "text": [
      "('tmp', 'test.txt')\n"
     ]
    }
   ],
   "source": [
    "print(os.path.split('tmp/test.txt'))"
   ]
  },
  {
   "cell_type": "code",
   "execution_count": 37,
   "metadata": {},
   "outputs": [
    {
     "name": "stdout",
     "output_type": "stream",
     "text": [
      "False\n"
     ]
    }
   ],
   "source": [
    "print(os.path.exists('tmp/test.txt'))"
   ]
  },
  {
   "cell_type": "code",
   "execution_count": 39,
   "metadata": {},
   "outputs": [
    {
     "name": "stdout",
     "output_type": "stream",
     "text": [
      "('tmp/test', '.txt')\n"
     ]
    }
   ],
   "source": [
    "print(os.path.splitext('tmp/test.txt'))"
   ]
  },
  {
   "cell_type": "code",
   "execution_count": null,
   "metadata": {
    "collapsed": true
   },
   "outputs": [],
   "source": []
  }
 ],
 "metadata": {
  "anaconda-cloud": {},
  "kernelspec": {
   "display_name": "Python 3 (ipykernel)",
   "language": "python",
   "name": "python3"
  },
  "language_info": {
   "codemirror_mode": {
    "name": "ipython",
    "version": 3
   },
   "file_extension": ".py",
   "mimetype": "text/x-python",
   "name": "python",
   "nbconvert_exporter": "python",
   "pygments_lexer": "ipython3",
   "version": "3.9.13"
  }
 },
 "nbformat": 4,
 "nbformat_minor": 1
}
