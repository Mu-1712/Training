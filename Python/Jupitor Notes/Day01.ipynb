{
 "cells": [
  {
   "cell_type": "code",
   "execution_count": 1,
   "id": "bb4588d3-cefd-40e3-b0ab-4171219a4a8e",
   "metadata": {},
   "outputs": [
    {
     "name": "stdin",
     "output_type": "stream",
     "text": [
      "enter the value 45\n",
      "enter the value 48\n"
     ]
    },
    {
     "name": "stdout",
     "output_type": "stream",
     "text": [
      "sum is 93\n",
      "avg is 46.5\n"
     ]
    }
   ],
   "source": [
    "#Sum and Average of two given numbers\n",
    "a = int(input(\"enter the value\"))\n",
    "b = int(input(\"enter the value\"))\n",
    "\n",
    "sum = a+b\n",
    "avg=sum/2\n",
    "\n",
    "print(\"sum is\", sum)\n",
    "print(\"avg is\", avg)"
   ]
  },
  {
   "cell_type": "code",
   "execution_count": 29,
   "id": "07fb5c12-9a97-4b1b-82d0-b790d52732cf",
   "metadata": {},
   "outputs": [
    {
     "name": "stdin",
     "output_type": "stream",
     "text": [
      "Enter a value 8579\n"
     ]
    },
    {
     "name": "stdout",
     "output_type": "stream",
     "text": [
      "Reverse number is  9758\n"
     ]
    }
   ],
   "source": [
    "#Reverse the given Number\n",
    "num = int(input(\"Enter a value\"))\n",
    "reverse =0\n",
    "while num>0:\n",
    "    digit = num%10\n",
    "    reverse = reverse*10 + digit\n",
    "    num =num//10\n",
    "print(\"Reverse number is \", reverse)"
   ]
  },
  {
   "cell_type": "code",
   "execution_count": 33,
   "id": "48084d60-93d2-4dc5-8bb9-effa680ddb07",
   "metadata": {},
   "outputs": [
    {
     "name": "stdin",
     "output_type": "stream",
     "text": [
      "Enter a value 1234\n"
     ]
    },
    {
     "name": "stdout",
     "output_type": "stream",
     "text": [
      "First, Last numbers are  1 4\n"
     ]
    }
   ],
   "source": [
    "#first, last integers from given number\n",
    "num = int(input(\"Enter a value\"))\n",
    "first=0\n",
    "rev=0\n",
    "last = num%10\n",
    "while(num):\n",
    "    temp=num%10\n",
    "    rev=rev*10+temp\n",
    "    num=num//10\n",
    "    first=rev%10\n",
    "\n",
    "print(\"First, Last numbers are \", first, last)"
   ]
  },
  {
   "cell_type": "code",
   "execution_count": 40,
   "id": "a53c9cdc-5995-44a9-aa1e-c86e56a58d73",
   "metadata": {},
   "outputs": [
    {
     "name": "stdin",
     "output_type": "stream",
     "text": [
      "Enter a value 785\n"
     ]
    },
    {
     "name": "stdout",
     "output_type": "stream",
     "text": [
      "First, Last numbers are  7 5\n"
     ]
    }
   ],
   "source": [
    "#first, last integers from given number(other approach)\n",
    "num = input(\"Enter a value\")\n",
    "if num:\n",
    "    first=num[0]\n",
    "    last=num[-1]\n",
    "print(\"First, Last numbers are \", first, last)"
   ]
  },
  {
   "cell_type": "code",
   "execution_count": 45,
   "id": "f9455e61-3e88-48f8-af8a-ba5158e02e1b",
   "metadata": {},
   "outputs": [
    {
     "name": "stdin",
     "output_type": "stream",
     "text": [
      "Enter how many inputs want to give:  3\n",
      "Enter 1st value:  -8\n",
      "Enter value:  10\n",
      "Enter value:  4\n"
     ]
    },
    {
     "name": "stdout",
     "output_type": "stream",
     "text": [
      "maximum from n numbers is: 10\n"
     ]
    }
   ],
   "source": [
    "#To find maximum of given 'n' numbers\n",
    "n=int(input(\"Enter how many inputs want to give: \"))\n",
    "max1=int(input(\"Enter 1st value: \"))\n",
    "while(n>=2):\n",
    "    v=int(input(\"Enter value: \"))\n",
    "    if(v>max1):\n",
    "        max1=v  \n",
    "    n=n-1\n",
    "print(\"maximum from n numbers is:\",max1)"
   ]
  },
  {
   "cell_type": "code",
   "execution_count": 46,
   "id": "dd5aa55c-8fe1-45d6-b4b4-0dcbb02fe837",
   "metadata": {},
   "outputs": [
    {
     "name": "stdin",
     "output_type": "stream",
     "text": [
      "Enter 1st value:  4\n",
      "Enter 2nd Value:  8\n",
      "Enter 3rd value:  1\n"
     ]
    },
    {
     "name": "stdout",
     "output_type": "stream",
     "text": [
      "Maximum in[ 4 8 1 ] is 8\n"
     ]
    }
   ],
   "source": [
    "#To find max of given 3 Numbers\n",
    "a=int(input(\"Enter 1st value: \"))\n",
    "b=int(input(\"Enter 2nd Value: \"))\n",
    "c=int(input(\"Enter 3rd value: \"))\n",
    "maxi=a\n",
    "if(b>maxi):\n",
    "    maxi=b\n",
    "if(c>maxi):\n",
    "    maxi=c\n",
    "print(\"Maximum in[\",a,b,c,\"] is\",maxi)"
   ]
  },
  {
   "cell_type": "code",
   "execution_count": 56,
   "id": "c4210c28-ff2a-4ce6-89c4-4f43a2b1fb55",
   "metadata": {},
   "outputs": [
    {
     "name": "stdin",
     "output_type": "stream",
     "text": [
      "Enter a value 785\n"
     ]
    },
    {
     "name": "stdout",
     "output_type": "stream",
     "text": [
      "785 is Not Palindrome\n"
     ]
    }
   ],
   "source": [
    "#Palindrome Number\n",
    "num = int(input(\"Enter a value\"))\n",
    "reverse =0\n",
    "originalNum=num\n",
    "while num>0:\n",
    "    digit = num%10\n",
    "    reverse = reverse*10 + digit\n",
    "    num =num//10\n",
    "if(reverse == originalNum):\n",
    "    print(originalNum, \"is Palindrome\")\n",
    "else:\n",
    "    print(originalNum, \"is Not Palindrome\")"
   ]
  },
  {
   "cell_type": "code",
   "execution_count": 59,
   "id": "ed8784d1-cc30-441a-82e9-719d8e113f93",
   "metadata": {},
   "outputs": [
    {
     "name": "stdin",
     "output_type": "stream",
     "text": [
      "Enter number of values:  3\n",
      "Enter the first value:  48\n",
      "Enter the second value:  25\n",
      "Enter next values:  16\n"
     ]
    },
    {
     "name": "stdout",
     "output_type": "stream",
     "text": [
      "48  is the first largest\n",
      "25  is the second largest\n"
     ]
    }
   ],
   "source": [
    "#2nd max from given numbers\n",
    "n=int(input(\"Enter number of values: \"))\n",
    "v1=int(input(\"Enter the first value: \"))\n",
    "v2=int(input(\"Enter the second value: \"))\n",
    "\n",
    "max1=v1\n",
    "max2=v2\n",
    "\n",
    "if(max2> max1):\n",
    "    temp = max1\n",
    "    max1=max2\n",
    "    max2=temp\n",
    "\n",
    "while(n>2):\n",
    "    v=int(input(\"Enter next values: \"))\n",
    "    if(v>max1):\n",
    "        max2=max1\n",
    "        max1=v\n",
    "    elif(v>max2):\n",
    "        max2=v\n",
    "    n=n-1\n",
    "print(max1, \" is the first largest\")\n",
    "print(max2, \" is the second largest\")\n"
   ]
  },
  {
   "cell_type": "code",
   "execution_count": 66,
   "id": "26d09847-9675-4ac5-b5e7-452eef4ba54b",
   "metadata": {},
   "outputs": [
    {
     "ename": "SyntaxError",
     "evalue": "invalid syntax (1615378434.py, line 7)",
     "output_type": "error",
     "traceback": [
      "\u001b[1;36m  Cell \u001b[1;32mIn[66], line 7\u001b[1;36m\u001b[0m\n\u001b[1;33m    eventcount++\u001b[0m\n\u001b[1;37m                ^\u001b[0m\n\u001b[1;31mSyntaxError\u001b[0m\u001b[1;31m:\u001b[0m invalid syntax\n"
     ]
    }
   ],
   "source": [
    "num=int(input(\"Enter number of values: \"))\n",
    "evencount=0\n",
    "oddcount=0\n",
    "while num>0:\n",
    "    digit = num%10\n",
    "    if(digit%2==0):\n",
    "        eventcount++\n",
    "    else:\n",
    "        oddcount++\n",
    "        num =num//10\n",
    "\n",
    "print(\"Odd Digits \", oddcount)\n",
    "print(\"Even Digits \", oddcount)"
   ]
  },
  {
   "cell_type": "code",
   "execution_count": null,
   "id": "737d709e-2082-4279-9c0a-85f22b1985a4",
   "metadata": {},
   "outputs": [],
   "source": []
  }
 ],
 "metadata": {
  "kernelspec": {
   "display_name": "Python 3 (ipykernel)",
   "language": "python",
   "name": "python3"
  },
  "language_info": {
   "codemirror_mode": {
    "name": "ipython",
    "version": 3
   },
   "file_extension": ".py",
   "mimetype": "text/x-python",
   "name": "python",
   "nbconvert_exporter": "python",
   "pygments_lexer": "ipython3",
   "version": "3.11.7"
  },
  "widgets": {
   "application/vnd.jupyter.widget-state+json": {
    "state": {},
    "version_major": 2,
    "version_minor": 0
   }
  }
 },
 "nbformat": 4,
 "nbformat_minor": 5
}
