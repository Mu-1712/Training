{
 "cells": [
  {
   "cell_type": "code",
   "execution_count": 1,
   "id": "d8523066",
   "metadata": {},
   "outputs": [],
   "source": [
    "# importing the csv module\n",
    "import csv\n",
    "# field names\n",
    "fields = ['Name', 'Branch', 'Year', 'CGPA']\n",
    "# data rows of csv file\n",
    "rows = [['Nikhil', 'COE', '2', '9.0'],\n",
    "        ['Sanchit', 'COE', '2', '9.1'],\n",
    "        ['Aditya', 'IT', '2', '9.3'],\n",
    "        ['Sagar', 'SE', '1', '9.5'],\n",
    "        ['Prateek', 'MCE', '3', '7.8'],\n",
    "        ['Sahil', 'EP', '2', '9.1']]\n",
    "# name of csv file\n",
    "filename = \"university_records.csv\"\n",
    "# writing to csv file\n",
    "with open('test.csv', 'w') as csvfile:\n",
    "    # creating a csv writer object\n",
    "    csvwriter = csv.writer(csvfile)\n",
    "    # writing the fields\n",
    "    csvwriter.writerow(fields)\n",
    "    # writing the data rows\n",
    "    csvwriter.writerows(rows)\n"
   ]
  },
  {
   "cell_type": "code",
   "execution_count": 2,
   "id": "fa4beac1",
   "metadata": {},
   "outputs": [
    {
     "name": "stdout",
     "output_type": "stream",
     "text": [
      "{'Name': 'Nikhil', 'Branch': 'COE', 'Year': '2', 'CGPA': '9.0'}\n",
      "{'Name': 'Sanchit', 'Branch': 'COE', 'Year': '2', 'CGPA': '9.1'}\n",
      "{'Name': 'Aditya', 'Branch': 'IT', 'Year': '2', 'CGPA': '9.3'}\n",
      "{'Name': 'Sagar', 'Branch': 'SE', 'Year': '1', 'CGPA': '9.5'}\n",
      "{'Name': 'Prateek', 'Branch': 'MCE', 'Year': '3', 'CGPA': '7.8'}\n",
      "{'Name': 'Sahil', 'Branch': 'EP', 'Year': '2', 'CGPA': '9.1'}\n"
     ]
    }
   ],
   "source": [
    "import csv\n",
    "\n",
    "# Open the CSV file for reading\n",
    "with open('test.csv', mode='r') as file:\n",
    "    # Create a CSV reader with DictReader\n",
    "    csv_reader = csv.DictReader(file)\n",
    "\n",
    "    # Initialize an empty list to store the dictionaries\n",
    "    data_list = []\n",
    "\n",
    "    # Iterate through each row in the CSV file\n",
    "    for row in csv_reader:\n",
    "        # Append each row (as a dictionary) to the list\n",
    "        data_list.append(row)\n",
    "\n",
    "# Print the list of dictionaries\n",
    "for data in data_list:\n",
    "    print(data)\n"
   ]
  }
 ],
 "metadata": {
  "kernelspec": {
   "display_name": "Python 3 (ipykernel)",
   "language": "python",
   "name": "python3"
  },
  "language_info": {
   "codemirror_mode": {
    "name": "ipython",
    "version": 3
   },
   "file_extension": ".py",
   "mimetype": "text/x-python",
   "name": "python",
   "nbconvert_exporter": "python",
   "pygments_lexer": "ipython3",
   "version": "3.9.13"
  }
 },
 "nbformat": 4,
 "nbformat_minor": 5
}
