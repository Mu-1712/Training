{
 "cells": [
  {
   "cell_type": "code",
   "execution_count": 2,
   "metadata": {
    "colab": {
     "base_uri": "https://localhost:8080/",
     "height": 102
    },
    "collapsed": false,
    "executionInfo": {
     "elapsed": 1296,
     "status": "ok",
     "timestamp": 1599134013696,
     "user": {
      "displayName": "LuckyFish Vlog",
      "photoUrl": "",
      "userId": "12188633397091826884"
     },
     "user_tz": -330
    },
    "id": "QlBsB1hY2Ho2",
    "outputId": "fad376e9-a6f0-41c2-a5dd-f80aa98be57b"
   },
   "outputs": [
    {
     "data": {
      "text/plain": [
       "[12.566370614359172,\n",
       " 78.53981633974483,\n",
       " 158.36768566746147,\n",
       " 0.2827433388230814,\n",
       " 314.1592653589793]"
      ]
     },
     "execution_count": 2,
     "metadata": {},
     "output_type": "execute_result"
    }
   ],
   "source": [
    "#map\n",
    "import math\n",
    "def area(r):\n",
    "  return math.pi*(r**2)\n",
    "\n",
    "radii=[2,5,7.1,0.3,10]\n",
    "\n",
    "areas=[]\n",
    "list(map(area,radii))\n"
   ]
  },
  {
   "cell_type": "code",
   "execution_count": 2,
   "metadata": {
    "colab": {
     "base_uri": "https://localhost:8080/",
     "height": 35
    },
    "collapsed": false,
    "executionInfo": {
     "elapsed": 349,
     "status": "ok",
     "timestamp": 1629178511440,
     "user": {
      "displayName": "LuckyFish Vlog",
      "photoUrl": "",
      "userId": "12188633397091826884"
     },
     "user_tz": -330
    },
    "id": "U3NfIQSlp85v",
    "outputId": "667707a9-24e3-4e3c-d78b-e1e8cf92951b"
   },
   "outputs": [
    {
     "data": {
      "application/vnd.google.colaboratory.intrinsic+json": {
       "type": "string"
      },
      "text/plain": [
       "'hellov'"
      ]
     },
     "execution_count": 2,
     "metadata": {
      "tags": []
     },
     "output_type": "execute_result"
    }
   ],
   "source": [
    "def rvowel(string):\n",
    "\n",
    "  vowels=\"aeiou\"\n",
    "  for v in vowels:\n",
    "    s=string.replace(v,\" \")\n",
    "  return s\n",
    "\n",
    "string=\"hellov\"\n",
    "rvowel(string)"
   ]
  },
  {
   "cell_type": "code",
   "execution_count": null,
   "metadata": {
    "colab": {
     "base_uri": "https://localhost:8080/"
    },
    "collapsed": false,
    "executionInfo": {
     "elapsed": 646,
     "status": "ok",
     "timestamp": 1626412973806,
     "user": {
      "displayName": "LuckyFish Vlog",
      "photoUrl": "",
      "userId": "12188633397091826884"
     },
     "user_tz": -330
    },
    "id": "OTebKTSYtPw6",
    "outputId": "b5539c51-1767-4044-b229-4c75c60e8e6c"
   },
   "outputs": [
    {
     "name": "stdout",
     "output_type": "stream",
     "text": [
      "code practice quiz geeks\n"
     ]
    }
   ],
   "source": [
    "# Function to reverse words of string\n",
    "\n",
    "def rev_sentence(sentence):\n",
    "\n",
    "\t# first split the string into words\n",
    "\twords = sentence.split(' ')\n",
    "  \n",
    "  \n",
    "\t# then reverse the split string list and join using space\n",
    "\treverse_sentence = ' '.join(reversed(words))\n",
    "\n",
    "\t# finally return the joined string\n",
    "\treturn reverse_sentence\n",
    "\n",
    "\n",
    "if __name__ == \"__main__\":\n",
    "\tinput = 'geeks quiz practice code'\n",
    "\tprint (rev_sentence(input))\n"
   ]
  },
  {
   "cell_type": "code",
   "execution_count": null,
   "metadata": {
    "colab": {
     "base_uri": "https://localhost:8080/"
    },
    "collapsed": false,
    "executionInfo": {
     "elapsed": 534,
     "status": "ok",
     "timestamp": 1626412988720,
     "user": {
      "displayName": "LuckyFish Vlog",
      "photoUrl": "",
      "userId": "12188633397091826884"
     },
     "user_tz": -330
    },
    "id": "o7xQ49G9xIKb",
    "outputId": "411d899a-e2bb-490c-8df0-ff370f3bb26c"
   },
   "outputs": [
    {
     "name": "stdout",
     "output_type": "stream",
     "text": [
      "skeeGrofskeeG si doog ot nrael\n"
     ]
    }
   ],
   "source": [
    "# Python code to Reverse each word\n",
    "# of a Sentence individually\n",
    "\n",
    "# Function to Reverse words\n",
    "def reverseWordSentence(Sentence):\n",
    "\n",
    "\t# Splitting the Sentence into list of words.\n",
    "\twords = Sentence.split(\" \")\n",
    "\t\n",
    "\t# Reversing each word and creating\n",
    "\t# a new list of words\n",
    "\t# List Comprehension Technique\n",
    "\tnewWords = [word[::-1] for word in words]\n",
    "\t\n",
    "\t# Joining the new list of words\n",
    "\t# to for a new Sentence\n",
    "\tnewSentence = \" \".join(newWords)\n",
    "\n",
    "\treturn newSentence\n",
    "\n",
    "# Driver's Code\n",
    "Sentence = \"GeeksforGeeks is good to learn\"\n",
    "# Calling the reverseWordSentence\n",
    "# Function to get the newSentence\n",
    "print(reverseWordSentence(Sentence))\n"
   ]
  },
  {
   "cell_type": "code",
   "execution_count": null,
   "metadata": {
    "colab": {
     "base_uri": "https://localhost:8080/"
    },
    "collapsed": false,
    "executionInfo": {
     "elapsed": 706,
     "status": "ok",
     "timestamp": 1626413294026,
     "user": {
      "displayName": "LuckyFish Vlog",
      "photoUrl": "",
      "userId": "12188633397091826884"
     },
     "user_tz": -330
    },
    "id": "QgL2m826wRyt",
    "outputId": "98aef746-49df-4040-e705-eca4857a44f8"
   },
   "outputs": [
    {
     "name": "stdout",
     "output_type": "stream",
     "text": [
      "None\n"
     ]
    }
   ],
   "source": [
    "input = 'geeks quiz practice code'\n",
    "word=input.split(' ')\n",
    "print(word.reverse())"
   ]
  },
  {
   "cell_type": "code",
   "execution_count": null,
   "metadata": {
    "colab": {
     "base_uri": "https://localhost:8080/"
    },
    "collapsed": false,
    "executionInfo": {
     "elapsed": 454,
     "status": "ok",
     "timestamp": 1626411629697,
     "user": {
      "displayName": "LuckyFish Vlog",
      "photoUrl": "",
      "userId": "12188633397091826884"
     },
     "user_tz": -330
    },
    "id": "Go_58PRWrh0o",
    "outputId": "94c96df7-156e-42fa-829a-86784e00af2f"
   },
   "outputs": [
    {
     "name": "stdout",
     "output_type": "stream",
     "text": [
      "GksfrGks -  Cmptr Scnc Prtl fr Gks\n"
     ]
    }
   ],
   "source": [
    "import re\n",
    "def rem_vowel(string):\n",
    "    return (re.sub(\"[aeiouAEIOU]\",\"\",string))           \n",
    " \n",
    "# Driver program\n",
    "string = \"GeeksforGeeks - A Computer Science Portal for Geeks\"\n",
    "print (rem_vowel(string))"
   ]
  },
  {
   "cell_type": "code",
   "execution_count": null,
   "metadata": {
    "colab": {
     "base_uri": "https://localhost:8080/",
     "height": 34
    },
    "collapsed": false,
    "executionInfo": {
     "elapsed": 1177,
     "status": "ok",
     "timestamp": 1561386524690,
     "user": {
      "displayName": "Gautham",
      "photoUrl": "",
      "userId": "12188633397091826884"
     },
     "user_tz": -330
    },
    "id": "iGRVj9KB4kqq",
    "outputId": "5d5e53b1-2aed-48f1-8c51-c2b1e754c9d6"
   },
   "outputs": [
    {
     "data": {
      "text/plain": [
       "<map at 0x7f38afe2f748>"
      ]
     },
     "execution_count": 5,
     "metadata": {
      "tags": []
     },
     "output_type": "execute_result"
    }
   ],
   "source": [
    "map(area,radii)\n"
   ]
  },
  {
   "cell_type": "code",
   "execution_count": null,
   "metadata": {
    "colab": {
     "base_uri": "https://localhost:8080/",
     "height": 102
    },
    "collapsed": false,
    "executionInfo": {
     "elapsed": 1254,
     "status": "ok",
     "timestamp": 1561386531565,
     "user": {
      "displayName": "Gautham",
      "photoUrl": "",
      "userId": "12188633397091826884"
     },
     "user_tz": -330
    },
    "id": "nS6U7gK244yV",
    "outputId": "1e7b5d36-83a2-450f-df23-c4310e34d74a"
   },
   "outputs": [
    {
     "data": {
      "text/plain": [
       "[12.566370614359172,\n",
       " 78.53981633974483,\n",
       " 158.36768566746147,\n",
       " 0.2827433388230814,\n",
       " 314.1592653589793]"
      ]
     },
     "execution_count": 6,
     "metadata": {
      "tags": []
     },
     "output_type": "execute_result"
    }
   ],
   "source": [
    "list(map(area,radii))"
   ]
  },
  {
   "cell_type": "code",
   "execution_count": null,
   "metadata": {
    "colab": {
     "base_uri": "https://localhost:8080/",
     "height": 34
    },
    "collapsed": false,
    "executionInfo": {
     "elapsed": 1221,
     "status": "ok",
     "timestamp": 1561387093899,
     "user": {
      "displayName": "Gautham",
      "photoUrl": "",
      "userId": "12188633397091826884"
     },
     "user_tz": -330
    },
    "id": "i2I058ch4-6g",
    "outputId": "e7318eaa-0803-467c-8443-16f972989c80"
   },
   "outputs": [
    {
     "data": {
      "text/plain": [
       "[('Berlin', 84.2), ('cairo', 96.8), ('Buenos Aires', 66.2), ('New York', 82.4)]"
      ]
     },
     "execution_count": 13,
     "metadata": {
      "tags": []
     },
     "output_type": "execute_result"
    }
   ],
   "source": []
  },
  {
   "cell_type": "code",
   "execution_count": null,
   "metadata": {
    "collapsed": true,
    "id": "7jf7wLo1owy_"
   },
   "outputs": [],
   "source": [
    "Celsius = [26.2, 33.2, 29.3, 32.4]\n",
    "Fahrenheit = map(lambda x: (float(9)/5)*x + 32, Celsius)\n",
    "print Fahrenheit"
   ]
  },
  {
   "cell_type": "code",
   "execution_count": 5,
   "metadata": {
    "colab": {
     "base_uri": "https://localhost:8080/"
    },
    "collapsed": false,
    "executionInfo": {
     "elapsed": 516,
     "status": "ok",
     "timestamp": 1623648481903,
     "user": {
      "displayName": "LuckyFish Vlog",
      "photoUrl": "",
      "userId": "12188633397091826884"
     },
     "user_tz": -330
    },
    "id": "FKFORDpe7Vlr",
    "outputId": "3851972f-17ed-491c-f1a0-2696d28e4bb5"
   },
   "outputs": [
    {
     "name": "stdout",
     "output_type": "stream",
     "text": [
      "2.2\n",
      "list= [2.7, 4.1, 4.3]\n"
     ]
    }
   ],
   "source": [
    "#filter\n",
    "import statistics as st\n",
    "\n",
    "data=[1.3,2.7,0.8,4.1,4.3,0]\n",
    "mean=st.mean(data)\n",
    "print(mean)\n",
    "a=list(filter(lambda x:x>mean,data))\n",
    "print(\"list=\",a)"
   ]
  },
  {
   "cell_type": "code",
   "execution_count": null,
   "metadata": {
    "colab": {
     "base_uri": "https://localhost:8080/",
     "height": 34
    },
    "collapsed": false,
    "executionInfo": {
     "elapsed": 1127,
     "status": "ok",
     "timestamp": 1561387558126,
     "user": {
      "displayName": "Gautham",
      "photoUrl": "",
      "userId": "12188633397091826884"
     },
     "user_tz": -330
    },
    "id": "1mO2ovrY8U2G",
    "outputId": "731f4ef7-8cd3-44a6-fd0a-ff5f387a9e96"
   },
   "outputs": [
    {
     "data": {
      "text/plain": [
       "['chennai', 'banglore', 'pondichery', 'velachery']"
      ]
     },
     "execution_count": 19,
     "metadata": {
      "tags": []
     },
     "output_type": "execute_result"
    }
   ],
   "source": [
    "city=[\"\",\"chennai\",\"\",\"banglore\",\"pondichery\",\"\",\"velachery\"]\n",
    "list(filter(None,city))"
   ]
  },
  {
   "cell_type": "code",
   "execution_count": 4,
   "metadata": {
    "colab": {
     "base_uri": "https://localhost:8080/"
    },
    "collapsed": false,
    "executionInfo": {
     "elapsed": 353,
     "status": "ok",
     "timestamp": 1629179694106,
     "user": {
      "displayName": "LuckyFish Vlog",
      "photoUrl": "",
      "userId": "12188633397091826884"
     },
     "user_tz": -330
    },
    "id": "Qd67r4-w87uq",
    "outputId": "f0242c1c-5a76-47f9-8fcb-3dba9f6c28aa"
   },
   "outputs": [
    {
     "data": {
      "text/plain": [
       "510510"
      ]
     },
     "execution_count": 4,
     "metadata": {
      "tags": []
     },
     "output_type": "execute_result"
    }
   ],
   "source": [
    "#reduce\n",
    "from functools import reduce\n",
    "data=[2,3,5,7,11,13,17]\n",
    "multiply=lambda x,y:x*y\n",
    "reduce(multiply,data)"
   ]
  },
  {
   "cell_type": "code",
   "execution_count": null,
   "metadata": {
    "colab": {
     "base_uri": "https://localhost:8080/",
     "height": 34
    },
    "collapsed": false,
    "executionInfo": {
     "elapsed": 1052,
     "status": "ok",
     "timestamp": 1561387838721,
     "user": {
      "displayName": "Gautham",
      "photoUrl": "",
      "userId": "12188633397091826884"
     },
     "user_tz": -330
    },
    "id": "rwBarGAW9pml",
    "outputId": "0c7298e8-3196-46bf-929e-f423dca0c133"
   },
   "outputs": [
    {
     "data": {
      "text/plain": [
       "510510"
      ]
     },
     "execution_count": 21,
     "metadata": {
      "tags": []
     },
     "output_type": "execute_result"
    }
   ],
   "source": [
    "mul=1\n",
    "for x in data:\n",
    "  mul=mul*x\n",
    "  \n",
    "mul  "
   ]
  }
 ],
 "metadata": {
  "colab": {
   "name": "map filter.ipynb",
   "provenance": []
  },
  "kernelspec": {
   "display_name": "Python [default]",
   "language": "python",
   "name": "python3"
  },
  "language_info": {
   "codemirror_mode": {
    "name": "ipython",
    "version": 3
   },
   "file_extension": ".py",
   "mimetype": "text/x-python",
   "name": "python",
   "nbconvert_exporter": "python",
   "pygments_lexer": "ipython3",
   "version": "3.5.2"
  }
 },
 "nbformat": 4,
 "nbformat_minor": 0
}
