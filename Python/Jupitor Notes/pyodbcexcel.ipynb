{
 "cells": [
  {
   "cell_type": "code",
   "execution_count": 10,
   "metadata": {
    "collapsed": false,
    "jupyter": {
     "outputs_hidden": false
    }
   },
   "outputs": [
    {
     "name": "stdout",
     "output_type": "stream",
     "text": [
      "SQL Server\n",
      "SQL Server Native Client 10.0\n",
      "PostgreSQL ANSI(x64)\n",
      "PostgreSQL Unicode(x64)\n",
      "Amazon Redshift (x64)\n",
      "Microsoft Access Driver (*.mdb, *.accdb)\n",
      "Microsoft Excel Driver (*.xls, *.xlsx, *.xlsm, *.xlsb)\n",
      "Microsoft Access Text Driver (*.txt, *.csv)\n",
      "Microsoft Access dBASE Driver (*.dbf, *.ndx, *.mdx)\n",
      "ODBC Driver 13 for SQL Server\n",
      "ODBC Driver 17 for SQL Server\n"
     ]
    },
    {
     "ename": "Error",
     "evalue": "('HY000', 'The driver did not supply an error!')",
     "output_type": "error",
     "traceback": [
      "\u001b[0;31m---------------------------------------------------------------------------\u001b[0m",
      "\u001b[0;31mError\u001b[0m                                     Traceback (most recent call last)",
      "\u001b[0;32m<ipython-input-10-0c525143ceda>\u001b[0m in \u001b[0;36m<module>\u001b[0;34m()\u001b[0m\n\u001b[1;32m     17\u001b[0m \u001b[1;33m\u001b[0m\u001b[0m\n\u001b[1;32m     18\u001b[0m \u001b[1;31m# define our connection, autocommit MUST BE SET TO TRUE, also we can edit data.\u001b[0m\u001b[1;33m\u001b[0m\u001b[1;33m\u001b[0m\u001b[0m\n\u001b[0;32m---> 19\u001b[0;31m \u001b[0mcnxn\u001b[0m \u001b[1;33m=\u001b[0m \u001b[0mpyodbc\u001b[0m\u001b[1;33m.\u001b[0m\u001b[0mconnect\u001b[0m\u001b[1;33m(\u001b[0m\u001b[0mconn_str\u001b[0m\u001b[1;33m,\u001b[0m \u001b[0mautocommit\u001b[0m\u001b[1;33m=\u001b[0m\u001b[1;32mTrue\u001b[0m\u001b[1;33m)\u001b[0m\u001b[1;33m\u001b[0m\u001b[0m\n\u001b[0m\u001b[1;32m     20\u001b[0m \u001b[0mcrsr\u001b[0m \u001b[1;33m=\u001b[0m \u001b[0mcnxn\u001b[0m\u001b[1;33m.\u001b[0m\u001b[0mcursor\u001b[0m\u001b[1;33m(\u001b[0m\u001b[1;33m)\u001b[0m\u001b[1;33m\u001b[0m\u001b[0m\n\u001b[1;32m     21\u001b[0m \u001b[1;33m\u001b[0m\u001b[0m\n",
      "\u001b[0;31mError\u001b[0m: ('HY000', 'The driver did not supply an error!')"
     ]
    }
   ],
   "source": [
    "import pyodbc\n",
    "\n",
    "# we may be interested in finding all the drivers we have access to\n",
    "for driver in pyodbc.drivers():\n",
    "   \n",
    "    # print the driver name\n",
    "    print(driver)\n",
    "    \n",
    "    # if the driver name has '.xlsx' in it we found it!\n",
    "    if '.xlsx' in driver:\n",
    "        myDriver = driver\n",
    "\n",
    "# define our connection string\n",
    "conn_str = (r'DRIVER={'+ myDriver +'};'\n",
    "            r'DBQ=new_book.xlsx;'\n",
    "            r'ReadOnly=1') # ReadOnly set to 0 means we can edit the data.\n",
    "\n",
    "# define our connection, autocommit MUST BE SET TO TRUE, also we can edit data.\n",
    "cnxn = pyodbc.connect(conn_str, autocommit=True)\n",
    "crsr = cnxn.cursor()\n",
    "\n",
    "# loop through all the tables\n",
    "for worksheet in crsr.tables():\n",
    "    \n",
    "    # display the worksheet\n",
    "    print(worksheet)\n",
    "    \n",
    "    # grab the table name.\n",
    "    tableName = worksheet[1]\n",
    "    \n",
    "# define our query to grab the data.\n",
    "# we want this \"SELECT Topic FROM [Sheet1$]\"\n",
    "crsr.execute(\"SELECT Value1 FROM [{}]\".format(tableName))\n",
    "\n",
    "# print each row of data.\n",
    "for row in crsr:\n",
    "    print(row.Topic)"
   ]
  },
  {
   "cell_type": "code",
   "execution_count": 3,
   "metadata": {
    "collapsed": false,
    "jupyter": {
     "outputs_hidden": false
    }
   },
   "outputs": [
    {
     "name": "stdout",
     "output_type": "stream",
     "text": [
      "   Row  Value1  Value2  Value3  Value4\n",
      "0    1      25     123      71     219\n",
      "1    2      26     456      28     510\n",
      "2    3      54     789      93     936\n",
      "3    4      22     741      13     776\n",
      "4    5      24     852      64     940\n"
     ]
    }
   ],
   "source": [
    "import pandas as pd\n",
    "df=pd.read_excel(r'C:\\Users\\gauth\\Desktop\\test.xlsx')\n",
    "df['Value4']=df['Value1']+df['Value2']+df['Value3']\n",
    "print(df.head())\n"
   ]
  },
  {
   "cell_type": "code",
   "execution_count": 4,
   "metadata": {
    "collapsed": false,
    "jupyter": {
     "outputs_hidden": false
    }
   },
   "outputs": [
    {
     "name": "stdout",
     "output_type": "stream",
     "text": [
      "   Row  Value1  Value2  Value3  Value4  Doubled\n",
      "0    1      25     123      71     219      438\n",
      "1    2      26     456      28     510     1020\n",
      "2    3      54     789      93     936     1872\n",
      "3    4      22     741      13     776     1552\n",
      "4    5      24     852      64     940     1880\n"
     ]
    }
   ],
   "source": [
    "def double_num(num):\n",
    "    return num*2\n",
    "df['Doubled']=df['Value4'].apply(double_num)\n",
    "print(df.head())"
   ]
  },
  {
   "cell_type": "code",
   "execution_count": 5,
   "metadata": {
    "collapsed": false,
    "jupyter": {
     "outputs_hidden": false
    }
   },
   "outputs": [],
   "source": [
    "#creating an new book\n",
    "import pandas as pd\n",
    "writer=pd.ExcelWriter('new_book.xlsx')\n",
    "df.to_excel(writer,'new_sheet')"
   ]
  },
  {
   "cell_type": "code",
   "execution_count": 6,
   "metadata": {
    "collapsed": false,
    "jupyter": {
     "outputs_hidden": false
    }
   },
   "outputs": [
    {
     "data": {
      "text/plain": [
       "['Sheet1']"
      ]
     },
     "execution_count": 6,
     "metadata": {},
     "output_type": "execute_result"
    }
   ],
   "source": [
    "import openpyxl\n",
    "wb = openpyxl.load_workbook('new_book.xlsx')\n",
    "wb.sheetnames"
   ]
  },
  {
   "cell_type": "code",
   "execution_count": 2,
   "metadata": {
    "collapsed": false,
    "jupyter": {
     "outputs_hidden": false
    }
   },
   "outputs": [
    {
     "name": "stdout",
     "output_type": "stream",
     "text": [
      "Emails\n"
     ]
    }
   ],
   "source": [
    "# Python program to read an excel file\n",
    "\n",
    "# import openpyxl module\n",
    "import openpyxl\n",
    "\n",
    "# Give the location of the file\n",
    "path = \"C:\\\\Users\\\\gauth\\\\PycharmProjects\\\\emailer\\\\Email.xlsx\"\n",
    "\n",
    "# To open the workbook\n",
    "# workbook object is created\n",
    "wb_obj = openpyxl.load_workbook(path)\n",
    "\n",
    "# Get workbook active sheet object\n",
    "# from the active attribute\n",
    "sheet_obj = wb_obj.active\n",
    "\n",
    "# Cell objects also have a row, column,\n",
    "# and coordinate attributes that provide\n",
    "# location information for the cell.\n",
    "\n",
    "# Note: The first row or\n",
    "# column integer is 1, not 0.\n",
    "\n",
    "# Cell object is created by using\n",
    "# sheet object's cell() method.\n",
    "cell_obj = sheet_obj.cell(row = 1, column = 1)\n",
    "\n",
    "# Print value of cell object\n",
    "# using the value attribute\n",
    "print(cell_obj.value)\n"
   ]
  },
  {
   "cell_type": "code",
   "execution_count": null,
   "metadata": {
    "collapsed": true,
    "jupyter": {
     "outputs_hidden": true
    }
   },
   "outputs": [],
   "source": []
  }
 ],
 "metadata": {
  "anaconda-cloud": {},
  "kernelspec": {
   "display_name": "Python 3 (ipykernel)",
   "language": "python",
   "name": "python3"
  },
  "language_info": {
   "codemirror_mode": {
    "name": "ipython",
    "version": 3
   },
   "file_extension": ".py",
   "mimetype": "text/x-python",
   "name": "python",
   "nbconvert_exporter": "python",
   "pygments_lexer": "ipython3",
   "version": "3.11.7"
  },
  "widgets": {
   "application/vnd.jupyter.widget-state+json": {
    "state": {},
    "version_major": 2,
    "version_minor": 0
   }
  }
 },
 "nbformat": 4,
 "nbformat_minor": 4
}
