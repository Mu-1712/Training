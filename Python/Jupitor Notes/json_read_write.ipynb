{
 "cells": [
  {
   "cell_type": "code",
   "execution_count": 1,
   "id": "7d7b7390",
   "metadata": {},
   "outputs": [],
   "source": [
    "import json\n",
    "\n",
    "with open('text.json', 'w') as fp:\n",
    "    data = {}\n",
    "    data['key'] = 'value'\n",
    "    json.dump(data, fp)\n",
    "    \n"
   ]
  },
  {
   "cell_type": "code",
   "execution_count": 2,
   "id": "4ad42f9e",
   "metadata": {},
   "outputs": [
    {
     "name": "stdout",
     "output_type": "stream",
     "text": [
      "{'key': 'value'}\n"
     ]
    }
   ],
   "source": [
    "with open('text.json', 'r') as fp:\n",
    "    data=fp.read()\n",
    "    final_data=json.loads(data)\n",
    "    print(final_data)"
   ]
  },
  {
   "cell_type": "code",
   "execution_count": 1,
   "id": "a04fd367",
   "metadata": {},
   "outputs": [],
   "source": [
    "import json\n",
    "with open(\"data1.json\",'w') as j:\n",
    "    pass"
   ]
  },
  {
   "cell_type": "code",
   "execution_count": 10,
   "id": "351db326",
   "metadata": {},
   "outputs": [
    {
     "name": "stdout",
     "output_type": "stream",
     "text": [
      "{1: {'nm': 'abc'}, 2: {'nm': 'xyz'}}\n"
     ]
    }
   ],
   "source": [
    "person={1:{'nm':'abc'}}\n",
    "\n",
    "p2={'nm':'xyz'}\n",
    "\n",
    "person[2]=p2\n",
    "print(person)"
   ]
  },
  {
   "cell_type": "code",
   "execution_count": 1,
   "id": "ef2cb613",
   "metadata": {},
   "outputs": [],
   "source": [
    "# Data to be written\n",
    "import json\n",
    "dictionary = {\n",
    "    \"name\": \"sathiyajith\",\n",
    "    \"rollno\": 56,\n",
    "    \"cgpa\": 8.6,\n",
    "    \"phonenumber\": \"9976770500\"\n",
    "}\n",
    "\n",
    "# Serializing json\n",
    "json_object = json.dumps(dictionary, indent=4)\n",
    "\n",
    "# Writing to sample.json\n",
    "with open(\"data1.json\", \"w\") as outfile:\n",
    "    outfile.write(json_object)\n"
   ]
  },
  {
   "cell_type": "code",
   "execution_count": 3,
   "id": "2c749036",
   "metadata": {},
   "outputs": [
    {
     "name": "stdout",
     "output_type": "stream",
     "text": [
      "{'name': 'sathiyajith', 'rollno': 56, 'cgpa': 8.6, 'phonenumber': '9976770500'}\n"
     ]
    }
   ],
   "source": [
    "with open('data1.json', 'r') as fp:\n",
    "    data=fp.read()\n",
    "    final_data=json.loads(data)\n",
    "    print(final_data)"
   ]
  },
  {
   "cell_type": "code",
   "execution_count": 4,
   "id": "ea9d4eab",
   "metadata": {},
   "outputs": [],
   "source": [
    "# Data to be written\n",
    "dictionary = {\n",
    "    \"name\": \"Ram\",\n",
    "    \"rollno\": 56,\n",
    "    \"cgpa\": 8.6,\n",
    "    \"phonenumber\": \"9976770500\"\n",
    "}\n",
    "\n",
    "# Serializing json\n",
    "json_object = json.dumps(dictionary, indent=4)\n",
    "\n",
    "with open(\"data1.json\", \"a\") as outfile:\n",
    "    #json.dump(dictionary, outfile)\n",
    "    outfile.write(json_object)\n"
   ]
  },
  {
   "cell_type": "code",
   "execution_count": 7,
   "id": "8dd3cddb",
   "metadata": {},
   "outputs": [
    {
     "name": "stdout",
     "output_type": "stream",
     "text": [
      "{'1': {'name': 'sathiyajith', 'rollno': 56, 'cgpa': 8.6, 'phonenumber': '9976770500'}, '2': {'name': 'Ram', 'rollno': 56, 'cgpa': 8.6, 'phonenumber': '9976770500'}}\n"
     ]
    }
   ],
   "source": [
    "with open('data1.json', 'r') as fp:\n",
    "    data=fp.read()\n",
    "    final_data=json.loads(data)\n",
    "    print(final_data)"
   ]
  },
  {
   "cell_type": "code",
   "execution_count": 8,
   "id": "da2cb45e",
   "metadata": {},
   "outputs": [
    {
     "name": "stdout",
     "output_type": "stream",
     "text": [
      "Enter the number of people: 2\n",
      "Enter data for person 1:\n",
      "Name: abc\n",
      "Age: 12\n",
      "City: ch\n",
      "Enter data for person 2:\n",
      "Name: xyz\n",
      "Age: 12\n",
      "City: ch\n",
      "Data has been written to the JSON file.\n"
     ]
    }
   ],
   "source": [
    "import json\n",
    "\n",
    "# Initialize an empty dictionary to store person data\n",
    "people = {}\n",
    "\n",
    "# Get the number of persons\n",
    "num_people = int(input(\"Enter the number of people: \"))\n",
    "\n",
    "# Loop through each person and get their data\n",
    "for i in range(1, num_people + 1):\n",
    "    print(f\"Enter data for person {i}:\")\n",
    "    name = input(\"Name: \")\n",
    "    age = int(input(\"Age: \"))\n",
    "    city = input(\"City: \")\n",
    "\n",
    "    # Create a dictionary with person data\n",
    "    person_data = {\n",
    "        \"name\": name,\n",
    "        \"age\": age,\n",
    "        \"city\": city\n",
    "    }\n",
    "\n",
    "    # Insert person data into the dictionary\n",
    "    people[f\"person{i}\"] = person_data\n",
    "\n",
    "# Write data to JSON file\n",
    "with open(\"data1.json\", \"w\") as file:\n",
    "    json.dump(people, file)\n",
    "\n",
    "# Print a message\n",
    "print(\"Data has been written to the JSON file.\")\n"
   ]
  },
  {
   "cell_type": "code",
   "execution_count": 9,
   "id": "4b88400a",
   "metadata": {},
   "outputs": [
    {
     "name": "stdout",
     "output_type": "stream",
     "text": [
      "{'person1': {'name': 'abc', 'age': 12, 'city': 'ch'}, 'person2': {'name': 'xyz', 'age': 12, 'city': 'ch'}}\n"
     ]
    }
   ],
   "source": [
    "with open('data1.json', 'r') as fp:\n",
    "    data=fp.read()\n",
    "    final_data=json.loads(data)\n",
    "    print(final_data)"
   ]
  },
  {
   "cell_type": "code",
   "execution_count": 11,
   "id": "162dab26",
   "metadata": {},
   "outputs": [
    {
     "name": "stdout",
     "output_type": "stream",
     "text": [
      "Directory tree has been converted to JSON and saved to directory_tree.json\n"
     ]
    }
   ],
   "source": [
    "import os\n",
    "import json\n",
    "\n",
    "# Function to convert directory tree to JSON\n",
    "def directory_to_json(root_dir):\n",
    "    data = {}\n",
    "    for dirpath, dirnames, filenames in os.walk(root_dir):\n",
    "        current_dir = data\n",
    "        # Split directory path into individual components\n",
    "        components = os.path.relpath(dirpath, root_dir).split(os.sep)\n",
    "        for component in components:\n",
    "            # Create a new dictionary for each directory level\n",
    "            current_dir = current_dir.setdefault(component, {})\n",
    "        # Add filenames as leaf nodes\n",
    "        for filename in filenames:\n",
    "            current_dir[filename] = os.path.join(dirpath,filename)\n",
    "    return data\n",
    "\n",
    "# Specify the root directory for the directory tree\n",
    "root_dir = 'd:/files'\n",
    "\n",
    "# Convert directory tree to JSON\n",
    "json_data = directory_to_json(root_dir)\n",
    "\n",
    "# Serialize to JSON string\n",
    "json_string = json.dumps(json_data, indent=4)\n",
    "\n",
    "# Write JSON string to a file\n",
    "with open('directory_tree.json', 'w') as fp:\n",
    "    fp.write(json_string)\n",
    "\n",
    "print('Directory tree has been converted to JSON and saved to directory_tree.json')\n"
   ]
  },
  {
   "cell_type": "code",
   "execution_count": 15,
   "id": "4ccfb608",
   "metadata": {},
   "outputs": [
    {
     "name": "stdout",
     "output_type": "stream",
     "text": [
      "{'d:/files': {'demo.txt': 'd:/files\\\\demo.txt', 'django.docx': 'd:/files\\\\django.docx', 'home': {}, 'new_demo': {'document_files': {'oldhome.docx': 'd:/files\\\\new_demo\\\\document_files\\\\oldhome.docx'}, 'excel_files': {'oldhome.xlsx': 'd:/files\\\\new_demo\\\\excel_files\\\\oldhome.xlsx'}, 'powerpoint_filse': {'oldhome.pptx': 'd:/files\\\\new_demo\\\\powerpoint_filse\\\\oldhome.pptx'}, 'txt_files': {'oldhome.txt': 'd:/files\\\\new_demo\\\\txt_files\\\\oldhome.txt', 'updated_home.txt': 'd:/files\\\\new_demo\\\\txt_files\\\\updated_home.txt'}}, 'new_home': {'document_files': {'oldhome.docx': 'd:/files\\\\new_home\\\\document_files\\\\oldhome.docx'}, 'excel_files': {'oldhome.xlsx': 'd:/files\\\\new_home\\\\excel_files\\\\oldhome.xlsx'}, 'powerpoint_filse': {'oldhome.pptx': 'd:/files\\\\new_home\\\\powerpoint_filse\\\\oldhome.pptx'}, 'txt_files': {'oldhome.txt': 'd:/files\\\\new_home\\\\txt_files\\\\oldhome.txt'}}, 'old_home': {'oldhome.docx': 'd:/files\\\\old_home\\\\oldhome.docx', 'oldhome.pptx': 'd:/files\\\\old_home\\\\oldhome.pptx', 'oldhome.txt': 'd:/files\\\\old_home\\\\oldhome.txt', 'oldhome.xlsx': 'd:/files\\\\old_home\\\\oldhome.xlsx', 'updated_home.txt': 'd:/files\\\\old_home\\\\updated_home.txt'}}}\n"
     ]
    }
   ],
   "source": [
    "def fs_tree():\n",
    "    results = {}\n",
    "    for (dirpath, dirnames, filenames) in os.walk('d:/files'):\n",
    "        parts = dirpath.split(os.sep)\n",
    "        curr = results\n",
    "        for p in parts:\n",
    "            curr = curr.setdefault(p, {})\n",
    "        for filename in filenames:\n",
    "            curr[filename] = os.path.join(dirpath,filename)\n",
    "    return results\n",
    "a=fs_tree()\n",
    "print(a)"
   ]
  },
  {
   "cell_type": "code",
   "execution_count": 32,
   "id": "10b0343f",
   "metadata": {},
   "outputs": [],
   "source": [
    "import xml.etree.ElementTree as ET\n",
    "\n",
    "# Create XML tree\n",
    "root = ET.Element('person')\n",
    "name_elem = ET.SubElement(root, 'name')\n",
    "name_elem.text = 'John'\n",
    "age_elem = ET.SubElement(root, 'age')\n",
    "age_elem.text = '30'\n",
    "gender_elem = ET.SubElement(root, 'gender')\n",
    "gender_elem.text = 'Male'\n",
    "\n",
    "# Create XML tree\n",
    "xml_tree = ET.ElementTree(root)\n",
    "\n",
    "# Write XML tree to a file\n",
    "xml_tree.write('example.xml', encoding='utf-8', xml_declaration=True)\n"
   ]
  },
  {
   "cell_type": "code",
   "execution_count": 34,
   "id": "75c307e4",
   "metadata": {},
   "outputs": [],
   "source": [
    "import xml.etree.ElementTree as ET\n",
    "\n",
    "# Parse XML content from file\n",
    "xml_tree = ET.parse('example.xml')\n",
    "root = xml_tree.getroot()\n",
    "\n",
    "# Access elements and attributes\n",
    "for person_elem in root.findall('person'):\n",
    "    name = person_elem.find('name').text\n",
    "    age = person_elem.find('age').text\n",
    "    gender = person_elem.find('gender').text\n",
    "    print(f\"Name: {name}, Age: {age}, Gender: {gender}\")\n",
    "\n"
   ]
  },
  {
   "cell_type": "code",
   "execution_count": 24,
   "id": "6f0329e1",
   "metadata": {},
   "outputs": [],
   "source": [
    "# creating an XML file for reading\n",
    "with open('example.xml', 'wb') as file:\n",
    "    pass\n"
   ]
  },
  {
   "cell_type": "code",
   "execution_count": 36,
   "id": "29de9a3d",
   "metadata": {},
   "outputs": [
    {
     "name": "stdout",
     "output_type": "stream",
     "text": [
      "b\"<?xml version='1.0' encoding='utf-8'?>\\r\\n<person><name>John</name><age>30</age><gender>Male</gender></person>\"\n"
     ]
    }
   ],
   "source": [
    "# Opening an XML file for reading\n",
    "with open('example.xml', 'rb') as file:\n",
    "    # Read XML content\n",
    "    xml_content = file.read()\n",
    "    print(xml_content)\n"
   ]
  },
  {
   "cell_type": "code",
   "execution_count": 27,
   "id": "1aa5c997",
   "metadata": {},
   "outputs": [],
   "source": [
    "import xml.etree.ElementTree as ET\n",
    "\n",
    "# Create XML tree\n",
    "root = ET.Element('person')\n",
    "name_elem = ET.SubElement(root, 'name')\n",
    "name_elem.text = 'John'\n",
    "age_elem = ET.SubElement(root, 'age')\n",
    "age_elem.text = '30'\n",
    "gender_elem = ET.SubElement(root, 'gender')\n",
    "gender_elem.text = 'Male'\n",
    "\n",
    "# Write XML tree to a file\n",
    "ET.ElementTree(root).write('example.xml')\n"
   ]
  },
  {
   "cell_type": "code",
   "execution_count": 37,
   "id": "2391ae90",
   "metadata": {},
   "outputs": [],
   "source": [
    "import xml.etree.ElementTree as ET\n",
    "# Opening an XML file for reading\n",
    "with open('example.xml', 'rb') as file:\n",
    "    # Read XML content\n",
    "    xml_content = file.read()\n",
    "\n",
    "# Parse XML content\n",
    "root = ET.fromstring(xml_content)\n",
    "\n",
    "    # Access elements and attributes\n",
    "for person_elem in root.findall('person'):\n",
    "    name = person_elem.find('name').text\n",
    "    age = person_elem.find('age').text\n",
    "    gender = person_elem.find('gender').text\n",
    "    print(f\"Name: {name}, Age: {age}, Gender: {gender}\")\n"
   ]
  },
  {
   "cell_type": "code",
   "execution_count": 39,
   "id": "040d8752",
   "metadata": {},
   "outputs": [],
   "source": [
    "import xml.etree.ElementTree as gfg\n",
    "\n",
    "\n",
    "def GenerateXML(fileName) :\n",
    "\t\n",
    "\troot = gfg.Element(\"Catalog\")\n",
    "\t\n",
    "\tm1 = gfg.Element(\"mobile\")\n",
    "\troot.append (m1)\n",
    "\t\n",
    "\tb1 = gfg.SubElement(m1, \"brand\")\n",
    "\tb1.text = \"Redmi\"\n",
    "\tb2 = gfg.SubElement(m1, \"price\")\n",
    "\tb2.text = \"6999\"\n",
    "\t\n",
    "\tm2 = gfg.Element(\"mobile\")\n",
    "\troot.append (m2)\n",
    "\t\n",
    "\tc1 = gfg.SubElement(m2, \"brand\")\n",
    "\tc1.text = \"Samsung\"\n",
    "\tc2 = gfg.SubElement(m2, \"price\")\n",
    "\tc2.text = \"9999\"\n",
    "\t\n",
    "\tm3 = gfg.Element(\"mobile\")\n",
    "\troot.append (m3)\n",
    "\t\n",
    "\td1 = gfg.SubElement(m3, \"brand\")\n",
    "\td1.text = \"RealMe\"\n",
    "\td2 = gfg.SubElement(m3, \"price\")\n",
    "\td2.text = \"11999\"\n",
    "\t\n",
    "\ttree = gfg.ElementTree(root)\n",
    "\t\n",
    "\twith open (fileName, \"wb\") as files :\n",
    "\t\ttree.write(files)\n",
    "\n",
    "# Driver Code\n",
    "\n",
    "GenerateXML(\"Catalog.xml\")\n"
   ]
  },
  {
   "cell_type": "code",
   "execution_count": 40,
   "id": "dda99f21",
   "metadata": {},
   "outputs": [
    {
     "name": "stdout",
     "output_type": "stream",
     "text": [
      "b'<Catalog><mobile><brand>Redmi</brand><price>6999</price></mobile><mobile><brand>Samsung</brand><price>9999</price></mobile><mobile><brand>RealMe</brand><price>11999</price></mobile></Catalog>'\n"
     ]
    }
   ],
   "source": [
    "# Opening an XML file for reading\n",
    "with open('Catalog.xml', 'rb') as file:\n",
    "    # Read XML content\n",
    "    xml_content = file.read()\n",
    "    print(xml_content)\n"
   ]
  },
  {
   "cell_type": "code",
   "execution_count": 16,
   "id": "1b1056df",
   "metadata": {},
   "outputs": [],
   "source": [
    "# creating an XML file for reading\n",
    "with open('holders1.xml', 'wb') as file:\n",
    "    pass"
   ]
  },
  {
   "cell_type": "code",
   "execution_count": 18,
   "id": "2f541c0a",
   "metadata": {},
   "outputs": [
    {
     "name": "stdout",
     "output_type": "stream",
     "text": [
      "b'<crypto coin=\"Money\">\\n\\t<investor>john</investor>\\n\\t<investor>max</investor>\\n\\t<investor>elder</investor>\\n\\t<investor>tom</investor>\\n</crypto>'\n"
     ]
    }
   ],
   "source": [
    "import xml.etree.ElementTree as ET\n",
    "\n",
    "tree=ET.parse('holders1.xml')\n",
    "root=tree.getroot()\n",
    "print(ET.tostring(root))"
   ]
  },
  {
   "cell_type": "code",
   "execution_count": 20,
   "id": "cc5f5b2b",
   "metadata": {},
   "outputs": [
    {
     "name": "stdout",
     "output_type": "stream",
     "text": [
      "crypto name=rupee\n"
     ]
    }
   ],
   "source": [
    "import xml.etree.ElementTree as ET\n",
    "\n",
    "tree=ET.parse('holders1.xml')\n",
    "root=tree.getroot()\n",
    "\n",
    "#get coin attribute\n",
    "\n",
    "coin=root.get('coin')\n",
    "print('crypto name={}'.format(coin))"
   ]
  },
  {
   "cell_type": "code",
   "execution_count": 21,
   "id": "b934167c",
   "metadata": {},
   "outputs": [
    {
     "name": "stdout",
     "output_type": "stream",
     "text": [
      "{'coin': 'rupee', 'launched': '20231010'}\n"
     ]
    }
   ],
   "source": [
    "#to create a attribute\n",
    "import xml.etree.ElementTree as ET\n",
    "\n",
    "tree=ET.parse('holders1.xml')\n",
    "root=tree.getroot()\n",
    "\n",
    "#set launched attribute\n",
    "\n",
    "root.set('launched','20231010')\n",
    "print(root.attrib)\n",
    "\n",
    "\n",
    "#to save xml\n",
    "tree.write('holders1.xml')"
   ]
  },
  {
   "cell_type": "code",
   "execution_count": 23,
   "id": "b7d10966",
   "metadata": {},
   "outputs": [],
   "source": [
    "#add id to each investor\n",
    "import xml.etree.ElementTree as ET\n",
    "\n",
    "tree=ET.parse('holders1.xml')\n",
    "root=tree.getroot()\n",
    "\n",
    "id=1\n",
    "for investor in tree.findall('investor'):\n",
    "    investor.set('id',str(id))\n",
    "    id+=1\n",
    "    \n",
    "#to save xml\n",
    "tree.write('holders1.xml')"
   ]
  },
  {
   "cell_type": "code",
   "execution_count": 24,
   "id": "ab326ee6",
   "metadata": {},
   "outputs": [],
   "source": [
    "#delete id for each investor\n",
    "import xml.etree.ElementTree as ET\n",
    "\n",
    "tree=ET.parse('holders1.xml')\n",
    "root=tree.getroot()\n",
    "\n",
    "for investor in tree.findall('investor'):\n",
    "    del(investor.attrib['id'])\n",
    "    \n",
    "#to save xml\n",
    "tree.write('holders1.xml')"
   ]
  },
  {
   "cell_type": "code",
   "execution_count": 25,
   "id": "4c44821b",
   "metadata": {},
   "outputs": [],
   "source": [
    "#add investors (type1)\n",
    "\n",
    "import xml.etree.ElementTree as ET\n",
    "\n",
    "tree=ET.parse('holders1.xml')\n",
    "root=tree.getroot()\n",
    "\n",
    "investor1=ET.fromstring('<investor>allen</investor>')\n",
    "root.append(investor1)\n",
    "\n",
    "#to save xml\n",
    "tree.write('holders1.xml')"
   ]
  },
  {
   "cell_type": "code",
   "execution_count": 26,
   "id": "84d31f76",
   "metadata": {},
   "outputs": [],
   "source": [
    "#add investors (type2)\n",
    "\n",
    "import xml.etree.ElementTree as ET\n",
    "\n",
    "tree=ET.parse('holders1.xml')\n",
    "root=tree.getroot()\n",
    "\n",
    "\n",
    "investor2=ET.Element('investor')\n",
    "investor2.text='karl'\n",
    "root.append(investor2)\n",
    "\n",
    "\n",
    "#to save xml\n",
    "tree.write('holders1.xml')"
   ]
  },
  {
   "cell_type": "code",
   "execution_count": 27,
   "id": "25acc1ad",
   "metadata": {},
   "outputs": [],
   "source": [
    "#add id\n",
    "\n",
    "import xml.etree.ElementTree as ET\n",
    "\n",
    "tree=ET.parse('holders1.xml')\n",
    "root=tree.getroot()\n",
    "\n",
    "for (id,investor) in enumerate(root.findall('investor')):\n",
    "    investor.set('id',str(id))\n",
    "    \n",
    "    \n",
    "#to save xml\n",
    "tree.write('holders1.xml')\n",
    "    "
   ]
  },
  {
   "cell_type": "code",
   "execution_count": 28,
   "id": "bda832f4",
   "metadata": {},
   "outputs": [
    {
     "name": "stdout",
     "output_type": "stream",
     "text": [
      "<Element 'investor' at 0x000001E9A8DE77C0>\n",
      "allen\n"
     ]
    }
   ],
   "source": [
    "import xml.etree.ElementTree as ET\n",
    "\n",
    "tree=ET.parse('holders1.xml')\n",
    "root=tree.getroot()\n",
    "\n",
    "investor=root.find(\".//investor[@id='4']\")\n",
    "print(investor)\n",
    "print(investor.text)"
   ]
  },
  {
   "cell_type": "code",
   "execution_count": null,
   "id": "3a579ab9",
   "metadata": {},
   "outputs": [],
   "source": []
  }
 ],
 "metadata": {
  "kernelspec": {
   "display_name": "Python 3 (ipykernel)",
   "language": "python",
   "name": "python3"
  },
  "language_info": {
   "codemirror_mode": {
    "name": "ipython",
    "version": 3
   },
   "file_extension": ".py",
   "mimetype": "text/x-python",
   "name": "python",
   "nbconvert_exporter": "python",
   "pygments_lexer": "ipython3",
   "version": "3.9.13"
  }
 },
 "nbformat": 4,
 "nbformat_minor": 5
}
